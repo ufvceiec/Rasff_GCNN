{
 "cells": [
  {
   "cell_type": "code",
   "execution_count": 2,
   "metadata": {},
   "outputs": [],
   "source": [
    "#Entrada: los datos ya descargados de RASFF y las salidas del \"Análisis_full_RASFF_Data\".\n",
    "\n",
    "#Formatos a probar:\n",
    "#159 paises x 29 productos x 1destino/origen (159x29x1)\n",
    "#159 paises x 159 paises x 29 productos (159x159x29)\n",
    "#159 paises x 1 valor producto x 1 destino/origen (159x1x1)\n",
    "#159paises x 159 paises x 1 valor producto (159x159x1)\n",
    "#\n",
    "#Tensor 3D 159x159x29\n",
    "\n",
    "\n",
    "#Vamos a hacer el de 159x159x1."
   ]
  },
  {
   "cell_type": "markdown",
   "metadata": {},
   "source": [
    "# Preprocesamiento "
   ]
  },
  {
   "cell_type": "markdown",
   "metadata": {},
   "source": [
    "## Librerías"
   ]
  },
  {
   "cell_type": "code",
   "execution_count": 3,
   "metadata": {},
   "outputs": [],
   "source": [
    "import numpy as np\n",
    "import pandas as pd\n",
    "import stellargraph as sg\n",
    "import tensorflow as tf\n",
    "import matplotlib.pyplot as plt\n",
    "import itertools\n",
    "\n",
    "from stellargraph.mapper import PaddedGraphGenerator\n",
    "from stellargraph.layer import DeepGraphCNN\n",
    "from stellargraph import StellarGraph\n",
    "\n",
    "from sklearn import model_selection\n",
    "from sklearn.preprocessing import OrdinalEncoder\n",
    "from sklearn.metrics import confusion_matrix\n",
    "\n",
    "from IPython.display import display, HTML\n",
    "\n",
    "from tensorflow.keras import Model\n",
    "from tensorflow.keras.optimizers import Adam\n",
    "from tensorflow.keras.layers import Dense, Conv1D, MaxPool1D, Dropout, Flatten\n",
    "from tensorflow.keras import losses\n"
   ]
  },
  {
   "cell_type": "markdown",
   "metadata": {},
   "source": [
    "## Carga del dataset"
   ]
  },
  {
   "cell_type": "code",
   "execution_count": 4,
   "metadata": {
    "scrolled": true
   },
   "outputs": [],
   "source": [
    "df = pd.read_csv('./../../Datasets/full_RASFF_DATA.csv', sep=';', header=0, index_col = 0)"
   ]
  },
  {
   "cell_type": "markdown",
   "metadata": {},
   "source": [
    "#### Carga de los datasets auxiliares (tratamiento)"
   ]
  },
  {
   "cell_type": "code",
   "execution_count": 5,
   "metadata": {},
   "outputs": [],
   "source": [
    "df_productos = pd.read_csv('./../../Datasets/Lista_Productos.csv', header=0, index_col = 0)\n",
    "df_cat_productos = pd.read_csv('./../../Datasets/Lista_Categoria_Productos.csv', header=0, index_col = 0)\n",
    "df_amenazas = pd.read_csv('./../../Datasets/Lista_Amenazas.csv', header=0, index_col = 0)\n",
    "df_cat_amenazas = pd.read_csv('./../../Datasets/Lista_Categoria_Amenazas.csv', header=0, index_col = 0)\n",
    "df_repes = pd.read_csv('./../../Datasets/Lista_repeticion_paises.csv', header=0, index_col = 0)"
   ]
  },
  {
   "cell_type": "markdown",
   "metadata": {},
   "source": [
    "#### Conversión de NaN a formato string"
   ]
  },
  {
   "cell_type": "code",
   "execution_count": 6,
   "metadata": {},
   "outputs": [],
   "source": [
    "df = df.replace(np.nan, \"\", regex=True)"
   ]
  },
  {
   "cell_type": "markdown",
   "metadata": {},
   "source": [
    "## Corrección del dataset"
   ]
  },
  {
   "cell_type": "code",
   "execution_count": 7,
   "metadata": {},
   "outputs": [],
   "source": [
    "#Seleccionamos la primera categoría de amenaza entre todas las posibles\n",
    "for index, row in df.iterrows():\n",
    "    row['HAZARDS_CAT'] = row['HAZARDS_CAT'].split(\",\")[0]"
   ]
  },
  {
   "cell_type": "markdown",
   "metadata": {},
   "source": [
    "## Elección de fechas"
   ]
  },
  {
   "cell_type": "code",
   "execution_count": 8,
   "metadata": {},
   "outputs": [
    {
     "data": {
      "text/plain": [
       "33"
      ]
     },
     "execution_count": 8,
     "metadata": {},
     "output_type": "execute_result"
    }
   ],
   "source": [
    "len(df_cat_amenazas)"
   ]
  },
  {
   "cell_type": "code",
   "execution_count": 9,
   "metadata": {},
   "outputs": [],
   "source": [
    "#Eliminamos las fechas que no nos interesan.\n",
    "fecha_maxima = \"2021\" #Primer año que no queremos coger.\n",
    "df = df.loc[df['DATE_CASE'] < fecha_maxima]"
   ]
  },
  {
   "cell_type": "code",
   "execution_count": 10,
   "metadata": {},
   "outputs": [
    {
     "data": {
      "text/plain": [
       "61350"
      ]
     },
     "execution_count": 10,
     "metadata": {},
     "output_type": "execute_result"
    }
   ],
   "source": [
    "len(df)"
   ]
  },
  {
   "cell_type": "markdown",
   "metadata": {},
   "source": [
    "## Agrupación de clases"
   ]
  },
  {
   "cell_type": "code",
   "execution_count": 11,
   "metadata": {},
   "outputs": [],
   "source": [
    "#Segun el dendograma visto anteriormente, vamos a agrupar las clases \n",
    "#\"labelling absent/incomplete/incorrect\" con \"packaging defective / incorrect\"\n",
    "#bajo una nueva clase llamada \"labelling absent/packaging defective/incorrect\"\n",
    "\n",
    "for index, row in df.iterrows():\n",
    "    if(row['HAZARDS_CAT'] == \"labelling absent/incomplete/incorrect\" or row['HAZARDS_CAT'] == \"packaging defective / incorrect\"):\n",
    "        row['HAZARDS_CAT'] = \"labelling absent/packaging defective/incorrect\""
   ]
  },
  {
   "cell_type": "markdown",
   "metadata": {},
   "source": [
    "## Eliminamos los registros que no deseamos \n",
    "Las categorias obsoletas y los países con una tasa de participación inferior al 1%"
   ]
  },
  {
   "cell_type": "code",
   "execution_count": 12,
   "metadata": {
    "scrolled": true
   },
   "outputs": [],
   "source": [
    "paises_eliminar = df_repes.tail(72)\n",
    "cat_productos_eliminar = df_cat_productos.tail(16)\n",
    "cat_productos_eliminar = cat_productos_eliminar.append(df_cat_productos.iloc[-22])\n",
    "cat_productos_eliminar = cat_productos_eliminar.sort_values('Repeticiones', ascending = False)\n",
    "cat_amenazas_eliminar = df_cat_amenazas.tail(19) #Estaba en 19"
   ]
  },
  {
   "cell_type": "code",
   "execution_count": 13,
   "metadata": {},
   "outputs": [
    {
     "data": {
      "text/plain": [
       "61350"
      ]
     },
     "execution_count": 13,
     "metadata": {},
     "output_type": "execute_result"
    }
   ],
   "source": [
    "len(df)"
   ]
  },
  {
   "cell_type": "code",
   "execution_count": 14,
   "metadata": {},
   "outputs": [],
   "source": [
    "#df_cat_amenazas.tail(50)"
   ]
  },
  {
   "cell_type": "code",
   "execution_count": 15,
   "metadata": {},
   "outputs": [],
   "source": [
    "#Eliminamos los registros que contienen valores no interesantes para nuestro estudio, mirando en las columnas de interés en cada registro.\n",
    "\n",
    "#Guardamos las filas que no queremos coger en este datframe.\n",
    "df_eliminar = df.drop(df.index, inplace=False)\n",
    "\n",
    "#Buscamos esas filas \"inútiles\".\n",
    "for index, row in df.iterrows():\n",
    "    #Eliminamos los países invalidos.\n",
    "    for j in (row[\"COUNT_ORIGEN\"].split(\",\")):\n",
    "        if (j in paises_eliminar['Pais'].values or j == \"INFOSAN\" or j == \"Commission Services\"):\n",
    "            df_eliminar.loc[df_eliminar.shape[0]] = row\n",
    "    for j in (row[\"COUNT_CONCERN\"].split(\",\")):\n",
    "        if (j in paises_eliminar['Pais'].values or j == \"INFOSAN\" or j == \"Commission Services\"):\n",
    "            df_eliminar.loc[df_eliminar.shape[0]] = row\n",
    "    for j in (row[\"COUNT_DESTIN\"].split(\",\")):\n",
    "        if (j in paises_eliminar['Pais'].values or j == \"INFOSAN\" or j == \"Commission Services\"):\n",
    "            df_eliminar.loc[df_eliminar.shape[0]] = row\n",
    "    #Eliminamos los productos inválidos.\n",
    "    if (row[\"PROD_CAT\"] in cat_productos_eliminar['Cat_Producto'].values):\n",
    "        df_eliminar.loc[df_eliminar.shape[0]] = row\n",
    "    #Eliminamos las categorías de amenazas inválidas.\n",
    "    for j in (row[\"HAZARDS_CAT\"].split(\",\")):\n",
    "        if (j in cat_amenazas_eliminar['Cat_Amenaza'].values \n",
    "            or row[\"HAZARDS_CAT\"] == \"\"\n",
    "            or row[\"HAZARDS_CAT\"] == \" \"):\n",
    "            df_eliminar.loc[df_eliminar.shape[0]] = row\n",
    "    #Eliminamos los registros que están vacios y no tienen información acerca de los paises.\n",
    "    if((row[\"COUNT_ORIGEN\"] == \" \" or row[\"COUNT_ORIGEN\"] == \"\") \n",
    "       and (row[\"COUNT_CONCERN\"] == \" \" or row[\"COUNT_CONCERN\"] == \"\") \n",
    "       and (row[\"COUNT_DESTIN\"] == \" \" or row[\"COUNT_DESTIN\"] == \"\")):\n",
    "        df_eliminar.loc[df_eliminar.shape[0]] = row\n",
    "        \n",
    "#Eliminamos por columna REF.\n",
    "cond = df['REF'].isin(df_eliminar['REF'])\n",
    "df.drop(df[cond].index, inplace = True)"
   ]
  },
  {
   "cell_type": "code",
   "execution_count": 16,
   "metadata": {},
   "outputs": [
    {
     "data": {
      "text/plain": [
       "47214"
      ]
     },
     "execution_count": 16,
     "metadata": {},
     "output_type": "execute_result"
    }
   ],
   "source": [
    "len(df)"
   ]
  },
  {
   "cell_type": "markdown",
   "metadata": {},
   "source": [
    "## Undersampling y conjunto de test"
   ]
  },
  {
   "cell_type": "code",
   "execution_count": 17,
   "metadata": {},
   "outputs": [],
   "source": [
    "#Debido al gran desequilibrio entre clases, equilibramos los datos con técnicas de undersampling.\n",
    "num_max_clase = 1700      #Número de registros máximo por clase.\n",
    "num_registros_test = 200  #Número de registros por clase para el conjunto de testeo.\n",
    "\n",
    "#Creamos una lista con todos los dataframes según cada clase para hacer el undersampling.\n",
    "ans = [pd.DataFrame(y) for x, y in df.groupby('HAZARDS_CAT', as_index=False)]\n",
    "\n",
    "#Creamos el conjunto de test por clases (sin seleccionar las columnas deseadas). Seleccionando 200 casos de todas las clases de forma random.\n",
    "listaClasesTest = ans.copy()\n",
    "for i in range(len(listaClasesTest)):\n",
    "    listaClasesTest[i] = listaClasesTest[i].sample(n=num_registros_test)\n",
    "\n",
    "#Escogemos la cantidad máxima de registros por cada clase.\n",
    "for i in range(len(ans)):\n",
    "    if(ans[i]['HAZARDS_CAT'].count() > num_max_clase):\n",
    "        ans[i] = ans[i].sample(n=num_max_clase)\n",
    "        \n",
    "#Reunimos todos en un único datframe (df otra vez).\n",
    "df = pd.concat(ans)\n",
    "testRowData = pd.concat(listaClasesTest)\n",
    "\n",
    "#Hacemos un shuffle para mezclar las clases entre sí.\n",
    "df = df.sample(frac=1).reset_index(drop=True)"
   ]
  },
  {
   "cell_type": "markdown",
   "metadata": {},
   "source": [
    "## Selección de atributos"
   ]
  },
  {
   "cell_type": "code",
   "execution_count": 18,
   "metadata": {},
   "outputs": [],
   "source": [
    "#Creamos 2 datasets, uno con los parámetros a entrenar (df) y otro con la información relativa a cada registro (df_info)\n",
    "df_info = df[['REF','PRODUCT','HAZARDS','DATE_CASE','CLASSIF','TYPE','RISK_DECISION', 'ACTION_TAKEN','DISTRIBUTION_STAT','NOT_COUNTRY']].reset_index(drop = True)\n",
    "df = df[['PROD_CAT','HAZARDS_CAT','COUNT_ORIGEN','COUNT_CONCERN','COUNT_DESTIN']].reset_index(drop = True)\n",
    "\n",
    "#De la misma forma con los datos del conjunto de test. QUEDA PENDIENTE HACER ESTO (TIENE QUE TENER MISMO FORMATO QUE LOS GRAFOS.)\n",
    "testData = testRowData[['PROD_CAT','HAZARDS_CAT','COUNT_ORIGEN','COUNT_CONCERN','COUNT_DESTIN']].reset_index(drop = True)\n"
   ]
  },
  {
   "cell_type": "code",
   "execution_count": 19,
   "metadata": {},
   "outputs": [
    {
     "data": {
      "text/plain": [
       "22220"
      ]
     },
     "execution_count": 19,
     "metadata": {},
     "output_type": "execute_result"
    }
   ],
   "source": [
    "len(df)"
   ]
  },
  {
   "cell_type": "markdown",
   "metadata": {},
   "source": [
    "## One hot encoding"
   ]
  },
  {
   "cell_type": "code",
   "execution_count": 20,
   "metadata": {},
   "outputs": [],
   "source": [
    "#Sacamos el dataframe de las categorías de amenaza, que es lo que vamos a predecdf_nodes_featuressificar para\n",
    "#poder compararlos y hacer un entrenamiento supervisado. Empleando OrdinalEncoder\n",
    "\n",
    "ord_enc = OrdinalEncoder()\n",
    "\n",
    "#Guardamos los valores temporalmente en y.\n",
    "y = pd.DataFrame(columns = []) \n",
    "y['y_value'] = df['HAZARDS_CAT']\n",
    "y['y_code'] = ord_enc.fit_transform(y[[\"y_value\"]])\n",
    "\n",
    "#Creamos un pequeño df \"y_guide\" con las conversiones, a modo de guía de qué codigo es qué valor.\n",
    "y_guide = pd.DataFrame(columns = ['y_value','y_code'])\n",
    "y_guide['y_value'] = y['y_value'].unique()\n",
    "y_guide['y_code'] = y['y_code'].unique()\n",
    "\n",
    "#Pasamos al formatpo de graph_labels, que es el que se emplea para las GCNNs.\n",
    "graph_labels = pd.Series(y[\"y_code\"], dtype = \"category\", name = \"Label\")\n",
    "\n",
    "df = df.drop('HAZARDS_CAT', axis=1)\n",
    "\n",
    "#Hacemos el one hot encoding de las categorías de los productos del df.\n",
    "x = pd.get_dummies(df['PROD_CAT'], prefix='PROD_CAT_')\n",
    "#display(x)\n",
    "#Los valores corresponden a la posición del producto ordenado alfabeticamente y sumado 1.\n",
    "\n",
    "#Convertimos el producto que corresponde al peso de los grafos\n",
    "x = df['PROD_CAT'].astype('category').cat.codes\n",
    "x = pd.DataFrame(data=x, columns = ['weight'], dtype = np.float32)\n",
    "x['weight'] += 1 #Para que no haya un 0 como peso.\n",
    "#print(x)\n",
    "#display(y.groupby(\"y_value\").count())"
   ]
  },
  {
   "cell_type": "markdown",
   "metadata": {},
   "source": [
    "## Creación de los grafos"
   ]
  },
  {
   "cell_type": "markdown",
   "metadata": {},
   "source": [
    "### Preparación"
   ]
  },
  {
   "cell_type": "code",
   "execution_count": 23,
   "metadata": {},
   "outputs": [],
   "source": [
    "#Preparación previa. Elegimos los países que vamos a usar (correspondiendo a los que hemos eliminado más arriba).\n",
    "paises = df_repes.head(159)['Pais'].sort_values().reset_index(drop = True)\n",
    "paises = paises[1:]          #Quitamos los huecos vacíos \" \"."
   ]
  },
  {
   "cell_type": "code",
   "execution_count": 24,
   "metadata": {},
   "outputs": [],
   "source": [
    "#Preparación previa. Creamos el 158x158x1 y lo rellenamos con los datos, las nuevas matrices.\n",
    "input_data = np.zeros((len(df),158,158,1))\n",
    "#input_data = np.empty()\n",
    "\n",
    "#Bucle que recorra todos los registros, y relacione los nodos entre sí, marcando la relación entre los paises.\n",
    "for index, row in df.iterrows():\n",
    "    #Creamos la matriz para un ejemplo.\n",
    "    matrix = np.zeros((158, 158, 1))\n",
    "\n",
    "    #Guardamos las longitudes de cada registro (nº de países). Si es vacío, establecemos un 0. \n",
    "    #LenCO = Country origen. LenCC = Country Concern y LenCD = Contry Destin.\n",
    "    if(not row['COUNT_ORIGEN'] == \"\" and not row['COUNT_ORIGEN'] == \" \"):\n",
    "        LenCO = len(row['COUNT_ORIGEN'].split(\",\"))\n",
    "        paisesCO = row['COUNT_ORIGEN'].split(\",\")\n",
    "    else:\n",
    "        LenCO = 0\n",
    "        paisesCO = \"\".split(\",\")\n",
    "    if(not row['COUNT_CONCERN'] == \"\" and not row['COUNT_CONCERN'] == \" \"):\n",
    "        LenCC = len(row['COUNT_CONCERN'].split(\",\"))\n",
    "        paisesCC = row['COUNT_CONCERN'].split(\",\")\n",
    "    else:\n",
    "        LenCC = 0\n",
    "        paisesCC = \"\".split(\",\")\n",
    "    if(not row['COUNT_DESTIN'] == \"\" and not row['COUNT_DESTIN'] == \" \"):\n",
    "        LenCD = len(row['COUNT_DESTIN'].split(\",\"))\n",
    "        paisesCD = row['COUNT_DESTIN'].split(\",\")\n",
    "    else:\n",
    "        LenCD = 0 \n",
    "        paisesCD = \"\".split(\",\")\n",
    "    #Creamos dos bucles anidados, para recorrer todos los source y linkarlos con todos los destinos. \n",
    "    #¡Esto funciona porque los índices de df_nodes siguen este mismo orden! \n",
    "    #Pero OJO! -> Existen 3 posibles casos: 1) LenCO = 0, 2) LenCC = 0 y 3) LenCD = 0. Teóricamente, habría que hacer 1->2->3.\n",
    "    #Si los 3 existen y son mayores que 0 se ejecutan los dos bucles.\n",
    "    \n",
    "    #Empezamos a rellenar el df, si existe LenCO y LenCC, lo rellenamos. \n",
    "    if(LenCO != 0 and LenCC != 0):\n",
    "        for i in range(LenCO):\n",
    "            indexOrigen = paises[paises==paisesCO[i]].index[0]-1\n",
    "            for j in range(LenCC):\n",
    "                indexDestino = paises[paises==paisesCC[j]].index[0]-1\n",
    "                matrix[indexOrigen][indexDestino] = np.float32(x.iloc[index][0])              \n",
    "    #Si LenCD es 0, no pasa nada, el grafo ya está creado. Si sí que existe, seguimos rellenando el grafo.\n",
    "    if(LenCC != 0 and LenCD != 0):\n",
    "        for i in range(LenCC):\n",
    "            indexOrigen = paises[paises==paisesCC[i]].index[0]-1\n",
    "            for j in range(LenCD):\n",
    "                indexDestino = paises[paises==paisesCD[j]].index[0]-1\n",
    "                matrix[indexOrigen][indexDestino] = np.float32(x.iloc[index][0])                  \n",
    "    #Por aquí solo va a entrar si no ha entrado en los otros dos.\n",
    "    if(LenCC == 0):\n",
    "        for i in range(LenCO):\n",
    "            indexOrigen = paises[paises==paisesCO[i]].index[0]-1\n",
    "            for j in range(LenCD):\n",
    "                indexDestino = paises[paises==paisesCD[j]].index[0]-1\n",
    "                matrix[indexOrigen][indexDestino] = np.float32(x.iloc[index][0])              \n",
    "\n",
    "    #Insertamos la matriz en la lista de datos.\n",
    "    input_data[index] = matrix\n",
    "    "
   ]
  },
  {
   "cell_type": "code",
   "execution_count": 25,
   "metadata": {},
   "outputs": [
    {
     "data": {
      "text/plain": [
       "(22220, 158, 158, 1)"
      ]
     },
     "execution_count": 25,
     "metadata": {},
     "output_type": "execute_result"
    }
   ],
   "source": [
    "np.shape(input_data)"
   ]
  },
  {
   "cell_type": "code",
   "execution_count": null,
   "metadata": {},
   "outputs": [],
   "source": []
  },
  {
   "cell_type": "markdown",
   "metadata": {},
   "source": [
    "### Ejemplo visual"
   ]
  },
  {
   "cell_type": "code",
   "execution_count": 26,
   "metadata": {},
   "outputs": [
    {
     "data": {
      "text/plain": [
       "PROD_CAT         crustaceans and products thereof\n",
       "COUNT_ORIGEN                                China\n",
       "COUNT_CONCERN                   Netherlands,Spain\n",
       "COUNT_DESTIN                                     \n",
       "Name: 10, dtype: object"
      ]
     },
     "metadata": {},
     "output_type": "display_data"
    },
    {
     "data": {
      "text/plain": [
       "(158, 158, 1)"
      ]
     },
     "metadata": {},
     "output_type": "display_data"
    }
   ],
   "source": [
    "#Ejemplos para enseñar\n",
    "miniIndex = 10\n",
    "pd.set_option('display.max_columns', None)\n",
    "\n",
    "display(df.iloc[miniIndex])\n",
    "display(input_data[miniIndex].shape)\n",
    "#display(graph_labels[miniIndex])\n",
    "#display(y_guide[y_guide['y_code']==graph_labels[miniIndex]]['y_value'][0])"
   ]
  },
  {
   "cell_type": "markdown",
   "metadata": {},
   "source": [
    "## Entrenamiento"
   ]
  },
  {
   "cell_type": "code",
   "execution_count": 27,
   "metadata": {},
   "outputs": [],
   "source": [
    "## Escoger train dataset, validation y test."
   ]
  },
  {
   "cell_type": "code",
   "execution_count": 28,
   "metadata": {},
   "outputs": [],
   "source": [
    "X_train, X_Validation = model_selection.train_test_split(\n",
    "    input_data, train_size=0.68, test_size=None #graph_labels, train_size=0.75, test_size=None, stratify=graph_labels,\n",
    ")"
   ]
  },
  {
   "cell_type": "code",
   "execution_count": 29,
   "metadata": {},
   "outputs": [
    {
     "data": {
      "text/plain": [
       "15109"
      ]
     },
     "metadata": {},
     "output_type": "display_data"
    },
    {
     "data": {
      "text/plain": [
       "3555"
      ]
     },
     "metadata": {},
     "output_type": "display_data"
    },
    {
     "data": {
      "text/plain": [
       "3556"
      ]
     },
     "metadata": {},
     "output_type": "display_data"
    }
   ],
   "source": [
    "#División del conjunto de test y validación.\n",
    "X_Test = X_Validation[int(len(X_Validation)/2):] #el último 0.16 para test graphs\n",
    "X_Validation = X_Validation[:int(len(X_Validation)/2)] #el primer 0.16 para val graphs\n",
    "\n",
    "#display(graph_labels[:len(train_graphs)].value_counts())\n",
    "#display(graph_labels[len(train_graphs):(len(train_graphs) + len(val_graphs))].value_counts())\n",
    "#display(graph_labels[(len(train_graphs) + len(val_graphs)):].value_counts())\n",
    "\n",
    "display(len(X_train))\n",
    "display(len(X_Validation))\n",
    "display(len(X_Test))"
   ]
  },
  {
   "cell_type": "code",
   "execution_count": 30,
   "metadata": {},
   "outputs": [
    {
     "data": {
      "text/plain": [
       "numpy.int32"
      ]
     },
     "execution_count": 30,
     "metadata": {},
     "output_type": "execute_result"
    }
   ],
   "source": [
    "#Convertimos el formato de graph labels.\n",
    "graph_labels = graph_labels.to_numpy(dtype=int)\n",
    "type(graph_labels[1])"
   ]
  },
  {
   "cell_type": "code",
   "execution_count": 31,
   "metadata": {},
   "outputs": [],
   "source": [
    "#Entrenamiento\n",
    "from tensorflow.keras import datasets, layers, models\n",
    "import matplotlib.pyplot as plt"
   ]
  },
  {
   "cell_type": "code",
   "execution_count": 33,
   "metadata": {},
   "outputs": [],
   "source": [
    "model = models.Sequential()\n",
    "model.add(layers.Conv2D(2, (2, 2), input_shape=((158, 158, 1))))\n",
    "model.add(layers.LeakyReLU())\n",
    "model.add(layers.MaxPooling2D(pool_size=(2, 2)))\n",
    "model.add(layers.Conv2D(4, (2, 2)))\n",
    "model.add(layers.LeakyReLU())\n",
    "model.add(layers.Flatten())\n",
    "model.add(layers.Dropout(0.3))\n",
    "model.add(layers.Dense(128))\n",
    "model.add(layers.LeakyReLU())\n",
    "model.add(layers.Dropout(0.3))\n",
    "model.add(layers.Dense(64))\n",
    "model.add(layers.LeakyReLU())\n",
    "model.add(layers.Dense(15, activation='softmax'))"
   ]
  },
  {
   "cell_type": "code",
   "execution_count": 34,
   "metadata": {},
   "outputs": [
    {
     "name": "stdout",
     "output_type": "stream",
     "text": [
      "Model: \"sequential\"\n",
      "_________________________________________________________________\n",
      "Layer (type)                 Output Shape              Param #   \n",
      "=================================================================\n",
      "conv2d (Conv2D)              (None, 157, 157, 2)       10        \n",
      "_________________________________________________________________\n",
      "leaky_re_lu (LeakyReLU)      (None, 157, 157, 2)       0         \n",
      "_________________________________________________________________\n",
      "max_pooling2d (MaxPooling2D) (None, 78, 78, 2)         0         \n",
      "_________________________________________________________________\n",
      "conv2d_1 (Conv2D)            (None, 77, 77, 4)         36        \n",
      "_________________________________________________________________\n",
      "leaky_re_lu_1 (LeakyReLU)    (None, 77, 77, 4)         0         \n",
      "_________________________________________________________________\n",
      "flatten (Flatten)            (None, 23716)             0         \n",
      "_________________________________________________________________\n",
      "dropout (Dropout)            (None, 23716)             0         \n",
      "_________________________________________________________________\n",
      "dense (Dense)                (None, 128)               3035776   \n",
      "_________________________________________________________________\n",
      "leaky_re_lu_2 (LeakyReLU)    (None, 128)               0         \n",
      "_________________________________________________________________\n",
      "dropout_1 (Dropout)          (None, 128)               0         \n",
      "_________________________________________________________________\n",
      "dense_1 (Dense)              (None, 64)                8256      \n",
      "_________________________________________________________________\n",
      "leaky_re_lu_3 (LeakyReLU)    (None, 64)                0         \n",
      "_________________________________________________________________\n",
      "dense_2 (Dense)              (None, 15)                975       \n",
      "=================================================================\n",
      "Total params: 3,045,053\n",
      "Trainable params: 3,045,053\n",
      "Non-trainable params: 0\n",
      "_________________________________________________________________\n"
     ]
    }
   ],
   "source": [
    "model.summary()"
   ]
  },
  {
   "cell_type": "code",
   "execution_count": 35,
   "metadata": {},
   "outputs": [],
   "source": [
    "model.compile(optimizer='adam',\n",
    "              loss=losses.SparseCategoricalCrossentropy(),\n",
    "              metrics=['accuracy'])\n",
    "\n"
   ]
  },
  {
   "cell_type": "code",
   "execution_count": 36,
   "metadata": {},
   "outputs": [
    {
     "data": {
      "text/plain": [
       "(15109, 158, 158, 1)"
      ]
     },
     "metadata": {},
     "output_type": "display_data"
    },
    {
     "data": {
      "text/plain": [
       "(15109,)"
      ]
     },
     "metadata": {},
     "output_type": "display_data"
    }
   ],
   "source": [
    "display(np.shape(X_train))\n",
    "display(np.shape(graph_labels[:len(X_train)]))\n"
   ]
  },
  {
   "cell_type": "code",
   "execution_count": null,
   "metadata": {},
   "outputs": [],
   "source": []
  },
  {
   "cell_type": "code",
   "execution_count": 37,
   "metadata": {},
   "outputs": [
    {
     "name": "stdout",
     "output_type": "stream",
     "text": [
      "Epoch 1/60\n",
      "473/473 [==============================] - 46s 96ms/step - loss: 2.7094 - accuracy: 0.0749 - val_loss: 2.6873 - val_accuracy: 0.0799\n",
      "Epoch 2/60\n",
      "473/473 [==============================] - 45s 95ms/step - loss: 2.6307 - accuracy: 0.1201 - val_loss: 2.7030 - val_accuracy: 0.0768\n",
      "Epoch 3/60\n",
      "473/473 [==============================] - 46s 96ms/step - loss: 2.5556 - accuracy: 0.1490 - val_loss: 2.7416 - val_accuracy: 0.0726\n",
      "Epoch 4/60\n",
      "473/473 [==============================] - 46s 98ms/step - loss: 2.4849 - accuracy: 0.1687 - val_loss: 2.8171 - val_accuracy: 0.0731\n",
      "Epoch 5/60\n",
      "473/473 [==============================] - 47s 99ms/step - loss: 2.4246 - accuracy: 0.1873 - val_loss: 2.8622 - val_accuracy: 0.0672\n",
      "Epoch 6/60\n",
      "473/473 [==============================] - 47s 99ms/step - loss: 2.3829 - accuracy: 0.1982 - val_loss: 2.9232 - val_accuracy: 0.0684\n",
      "Epoch 7/60\n",
      "473/473 [==============================] - 47s 99ms/step - loss: 2.3410 - accuracy: 0.2072 - val_loss: 2.9741 - val_accuracy: 0.0757\n",
      "Epoch 8/60\n",
      "473/473 [==============================] - 47s 99ms/step - loss: 2.3111 - accuracy: 0.2134 - val_loss: 3.0461 - val_accuracy: 0.0757\n",
      "Epoch 9/60\n",
      "473/473 [==============================] - 47s 99ms/step - loss: 2.2847 - accuracy: 0.2207 - val_loss: 3.0226 - val_accuracy: 0.0692\n",
      "Epoch 10/60\n",
      "473/473 [==============================] - 47s 99ms/step - loss: 2.2673 - accuracy: 0.2278 - val_loss: 3.1123 - val_accuracy: 0.0754\n",
      "Epoch 11/60\n",
      "473/473 [==============================] - 47s 99ms/step - loss: 2.2453 - accuracy: 0.2353 - val_loss: 3.1631 - val_accuracy: 0.0723\n",
      "Epoch 12/60\n",
      "473/473 [==============================] - 48s 101ms/step - loss: 2.2361 - accuracy: 0.2319 - val_loss: 3.1726 - val_accuracy: 0.0740\n",
      "Epoch 13/60\n",
      "473/473 [==============================] - 47s 100ms/step - loss: 2.2123 - accuracy: 0.2444 - val_loss: 3.2014 - val_accuracy: 0.0681\n",
      "Epoch 14/60\n",
      "473/473 [==============================] - 47s 99ms/step - loss: 2.2111 - accuracy: 0.2433 - val_loss: 3.1803 - val_accuracy: 0.0720\n",
      "Epoch 15/60\n",
      "473/473 [==============================] - 47s 99ms/step - loss: 2.1954 - accuracy: 0.2513 - val_loss: 3.2736 - val_accuracy: 0.0729\n",
      "Epoch 16/60\n",
      "473/473 [==============================] - 48s 101ms/step - loss: 2.1824 - accuracy: 0.2483 - val_loss: 3.2769 - val_accuracy: 0.0669\n",
      "Epoch 17/60\n",
      "473/473 [==============================] - 47s 99ms/step - loss: 2.1844 - accuracy: 0.2493 - val_loss: 3.2409 - val_accuracy: 0.0757\n",
      "Epoch 18/60\n",
      "473/473 [==============================] - 47s 99ms/step - loss: 2.1707 - accuracy: 0.2547 - val_loss: 3.3459 - val_accuracy: 0.0751\n",
      "Epoch 19/60\n",
      "473/473 [==============================] - 47s 100ms/step - loss: 2.1602 - accuracy: 0.2585 - val_loss: 3.3455 - val_accuracy: 0.0684\n",
      "Epoch 20/60\n",
      "473/473 [==============================] - 47s 99ms/step - loss: 2.1496 - accuracy: 0.2578 - val_loss: 3.3631 - val_accuracy: 0.0681\n",
      "Epoch 21/60\n",
      "473/473 [==============================] - 47s 100ms/step - loss: 2.1550 - accuracy: 0.2583 - val_loss: 3.3657 - val_accuracy: 0.0700\n",
      "Epoch 22/60\n",
      "473/473 [==============================] - 47s 99ms/step - loss: 2.1410 - accuracy: 0.2641 - val_loss: 3.3487 - val_accuracy: 0.0698\n",
      "Epoch 23/60\n",
      "473/473 [==============================] - 47s 99ms/step - loss: 2.1356 - accuracy: 0.2613 - val_loss: 3.3922 - val_accuracy: 0.0681\n",
      "Epoch 24/60\n",
      "473/473 [==============================] - 47s 99ms/step - loss: 2.1304 - accuracy: 0.2683 - val_loss: 3.4879 - val_accuracy: 0.0712\n",
      "Epoch 25/60\n",
      "473/473 [==============================] - 47s 99ms/step - loss: 2.1233 - accuracy: 0.2706 - val_loss: 3.3648 - val_accuracy: 0.0712\n",
      "Epoch 26/60\n",
      "473/473 [==============================] - 47s 100ms/step - loss: 2.1254 - accuracy: 0.2708 - val_loss: 3.4965 - val_accuracy: 0.0714\n",
      "Epoch 27/60\n",
      "473/473 [==============================] - 47s 99ms/step - loss: 2.1127 - accuracy: 0.2751 - val_loss: 3.4610 - val_accuracy: 0.0720\n",
      "Epoch 28/60\n",
      "473/473 [==============================] - 47s 99ms/step - loss: 2.1087 - accuracy: 0.2730 - val_loss: 3.4502 - val_accuracy: 0.0729\n",
      "Epoch 29/60\n",
      "473/473 [==============================] - 47s 98ms/step - loss: 2.1020 - accuracy: 0.2764 - val_loss: 3.4937 - val_accuracy: 0.0765\n",
      "Epoch 30/60\n",
      "473/473 [==============================] - 46s 98ms/step - loss: 2.0963 - accuracy: 0.2783 - val_loss: 3.4752 - val_accuracy: 0.0698\n",
      "Epoch 31/60\n",
      "473/473 [==============================] - 47s 99ms/step - loss: 2.1001 - accuracy: 0.2776 - val_loss: 3.5324 - val_accuracy: 0.0729\n",
      "Epoch 32/60\n",
      "473/473 [==============================] - 47s 99ms/step - loss: 2.0949 - accuracy: 0.2748 - val_loss: 3.4806 - val_accuracy: 0.0698\n",
      "Epoch 33/60\n",
      "473/473 [==============================] - 46s 98ms/step - loss: 2.0870 - accuracy: 0.2827 - val_loss: 3.4978 - val_accuracy: 0.0689\n",
      "Epoch 34/60\n",
      "473/473 [==============================] - 47s 99ms/step - loss: 2.0853 - accuracy: 0.2823 - val_loss: 3.4750 - val_accuracy: 0.0684\n",
      "Epoch 35/60\n",
      "473/473 [==============================] - 47s 99ms/step - loss: 2.0790 - accuracy: 0.2829 - val_loss: 3.4895 - val_accuracy: 0.0757\n",
      "Epoch 36/60\n",
      "473/473 [==============================] - 46s 98ms/step - loss: 2.0736 - accuracy: 0.2843 - val_loss: 3.5135 - val_accuracy: 0.0684\n",
      "Epoch 37/60\n",
      "473/473 [==============================] - 47s 98ms/step - loss: 2.0726 - accuracy: 0.2861 - val_loss: 3.5669 - val_accuracy: 0.0709\n",
      "Epoch 38/60\n",
      "473/473 [==============================] - 46s 98ms/step - loss: 2.0695 - accuracy: 0.2833 - val_loss: 3.5341 - val_accuracy: 0.0706\n",
      "Epoch 39/60\n",
      "473/473 [==============================] - 46s 98ms/step - loss: 2.0676 - accuracy: 0.2832 - val_loss: 3.6242 - val_accuracy: 0.0686\n",
      "Epoch 40/60\n",
      "473/473 [==============================] - 47s 100ms/step - loss: 2.0588 - accuracy: 0.2876 - val_loss: 3.6194 - val_accuracy: 0.0698\n",
      "Epoch 41/60\n",
      "473/473 [==============================] - 47s 99ms/step - loss: 2.0575 - accuracy: 0.2923 - val_loss: 3.6044 - val_accuracy: 0.0692\n",
      "Epoch 42/60\n",
      "473/473 [==============================] - 47s 99ms/step - loss: 2.0537 - accuracy: 0.2931 - val_loss: 3.6845 - val_accuracy: 0.0669\n",
      "Epoch 43/60\n",
      "473/473 [==============================] - 47s 98ms/step - loss: 2.0590 - accuracy: 0.2897 - val_loss: 3.5495 - val_accuracy: 0.0748\n",
      "Epoch 44/60\n",
      "473/473 [==============================] - 46s 97ms/step - loss: 2.0555 - accuracy: 0.2910 - val_loss: 3.6518 - val_accuracy: 0.0709\n",
      "Epoch 45/60\n",
      "473/473 [==============================] - 46s 97ms/step - loss: 2.0516 - accuracy: 0.2912 - val_loss: 3.6068 - val_accuracy: 0.0681\n",
      "Epoch 46/60\n",
      "473/473 [==============================] - 46s 97ms/step - loss: 2.0456 - accuracy: 0.2965 - val_loss: 3.6762 - val_accuracy: 0.0686\n",
      "Epoch 47/60\n",
      "473/473 [==============================] - 46s 98ms/step - loss: 2.0350 - accuracy: 0.3003 - val_loss: 3.7301 - val_accuracy: 0.0672\n",
      "Epoch 48/60\n",
      "473/473 [==============================] - 47s 99ms/step - loss: 2.0404 - accuracy: 0.2967 - val_loss: 3.6922 - val_accuracy: 0.0692\n",
      "Epoch 49/60\n",
      "473/473 [==============================] - 48s 100ms/step - loss: 2.0372 - accuracy: 0.2961 - val_loss: 3.6348 - val_accuracy: 0.0723\n",
      "Epoch 50/60\n",
      "473/473 [==============================] - 47s 99ms/step - loss: 2.0400 - accuracy: 0.2980 - val_loss: 3.6693 - val_accuracy: 0.0692\n",
      "Epoch 51/60\n",
      "473/473 [==============================] - 47s 100ms/step - loss: 2.0327 - accuracy: 0.3002 - val_loss: 3.6675 - val_accuracy: 0.0684\n",
      "Epoch 52/60\n",
      "473/473 [==============================] - 47s 100ms/step - loss: 2.0356 - accuracy: 0.2979 - val_loss: 3.6902 - val_accuracy: 0.0644\n",
      "Epoch 53/60\n",
      "473/473 [==============================] - 48s 102ms/step - loss: 2.0260 - accuracy: 0.3015 - val_loss: 3.6974 - val_accuracy: 0.0650\n",
      "Epoch 54/60\n",
      "473/473 [==============================] - 47s 99ms/step - loss: 2.0286 - accuracy: 0.3013 - val_loss: 3.7633 - val_accuracy: 0.0686\n",
      "Epoch 55/60\n",
      "473/473 [==============================] - 47s 100ms/step - loss: 2.0251 - accuracy: 0.3013 - val_loss: 3.7293 - val_accuracy: 0.0661\n",
      "Epoch 56/60\n",
      "473/473 [==============================] - 48s 101ms/step - loss: 2.0253 - accuracy: 0.2990 - val_loss: 3.6665 - val_accuracy: 0.0689\n",
      "Epoch 57/60\n",
      "473/473 [==============================] - 47s 99ms/step - loss: 2.0202 - accuracy: 0.3043 - val_loss: 3.6829 - val_accuracy: 0.0675\n",
      "Epoch 58/60\n",
      "473/473 [==============================] - 46s 98ms/step - loss: 2.0207 - accuracy: 0.3045 - val_loss: 3.7441 - val_accuracy: 0.0700\n",
      "Epoch 59/60\n",
      "473/473 [==============================] - 46s 98ms/step - loss: 2.0214 - accuracy: 0.3012 - val_loss: 3.7079 - val_accuracy: 0.0723\n",
      "Epoch 60/60\n",
      "473/473 [==============================] - 46s 97ms/step - loss: 2.0185 - accuracy: 0.3040 - val_loss: 3.7084 - val_accuracy: 0.0709\n"
     ]
    }
   ],
   "source": [
    "history = model.fit(X_train, graph_labels[:len(X_train)], epochs=60, \n",
    "                    validation_data=(X_Validation, graph_labels[len(X_train):(len(X_train)+len(X_Validation))]))"
   ]
  },
  {
   "cell_type": "code",
   "execution_count": 38,
   "metadata": {},
   "outputs": [
    {
     "data": {
      "image/png": "[encoded data removed]",
      "text/plain": [
       "<Figure size 504x576 with 2 Axes>"
      ]
     },
     "metadata": {
      "needs_background": "light"
     },
     "output_type": "display_data"
    }
   ],
   "source": [
    "sg.utils.plot_history(history)"
   ]
  },
  {
   "cell_type": "code",
   "execution_count": 42,
   "metadata": {},
   "outputs": [
    {
     "data": {
      "text/plain": [
       "array([ 4, 14, 11, ...,  9, 14, 14], dtype=int64)"
      ]
     },
     "execution_count": 42,
     "metadata": {},
     "output_type": "execute_result"
    }
   ],
   "source": [
    "Y_prediction = model.predict(X_Test)\n",
    "y_pred = np.argmax(Y_prediction, axis=1)\n",
    "y_pred"
   ]
  },
  {
   "cell_type": "code",
   "execution_count": 45,
   "metadata": {},
   "outputs": [],
   "source": [
    "def plot_confusion_matrix(cm, classes,\n",
    "                          normalize=False,\n",
    "                          title='Confusion matrix',\n",
    "                          cmap=plt.cm.Blues):\n",
    "    \"\"\"\n",
    "    This function prints and plots the confusion matrix.\n",
    "    Normalization can be applied by setting `normalize=True`.\n",
    "    \"\"\"\n",
    "    plt.imshow(cm, interpolation='nearest', cmap=cmap)\n",
    "    plt.title(title)\n",
    "    plt.colorbar()\n",
    "    tick_marks = np.arange(len(classes))\n",
    "    plt.xticks(tick_marks, classes, rotation=90)\n",
    "    plt.yticks(tick_marks, classes)\n",
    "\n",
    "    if normalize:\n",
    "        cm = cm.astype('float') / cm.sum(axis=1)[:, np.newaxis]\n",
    "        print(\"Normalized confusion matrix\")\n",
    "    else:\n",
    "        print('Confusion matrix, without normalization')\n",
    "\n",
    "    print(cm)\n",
    "\n",
    "    thresh = cm.max() / 2.\n",
    "    for i, j in itertools.product(range(cm.shape[0]), range(cm.shape[1])):\n",
    "        plt.text(j, i, cm[i, j],\n",
    "                 horizontalalignment=\"center\",\n",
    "                 color=\"white\" if cm[i, j] > thresh else \"black\")\n",
    "\n",
    "    #plt.tight_layout()\n",
    "    plt.ylabel('True label')\n",
    "    plt.xlabel('Predicted label')\n"
   ]
  },
  {
   "cell_type": "code",
   "execution_count": 46,
   "metadata": {},
   "outputs": [],
   "source": [
    "cm = confusion_matrix(graph_labels[(len(X_train)+ len(X_Validation)):], y_pred)"
   ]
  },
  {
   "cell_type": "code",
   "execution_count": 47,
   "metadata": {},
   "outputs": [
    {
     "name": "stdout",
     "output_type": "stream",
     "text": [
      "Confusion matrix, without normalization\n",
      "[[11  9 32  2 18 15  5 33 21  8 19  9 20 10  9]\n",
      " [10  5 16  3 11 24  1 23  9 12 16 13 19  8 20]\n",
      " [13  7 29  7 33 26  6 26 18  8 22 13 25 10 26]\n",
      " [ 8  4 13  1 18 13  2 17  8  8 17 12  9  4 14]\n",
      " [14 13 30  1 21 29  3 24 16 14 28 12 33 11 21]\n",
      " [ 9 10 25  4 23 17  2 28 17 11 15 16 17  9 21]\n",
      " [ 9  6  8  2  6 16  2 10  9  8  4  8 17  9  9]\n",
      " [11  8 24  4 18 16  1 37 14 15 33 19 31 15 17]\n",
      " [14  7 32  2 27 19  6 36 13 12 24 11 30 20 24]\n",
      " [ 9  5 27  1 13 23  3 19 11  8 26 11 22 13 21]\n",
      " [ 9 15 39  4 35 22  4 26 17 22 18 17 32 10 20]\n",
      " [15  8 38  5 24 25  1 44 12 13 25 14 32 18 22]\n",
      " [13 12 25  0 31 18  1 35 27 16 19 18 33 12 22]\n",
      " [13  5 19  1 24 22  4 23 17  9 19 12 22 12  8]\n",
      " [14  9 30  2 21 25  8 41 16 17 25 12 27 15 19]]\n"
     ]
    },
    {
     "data": {
      "image/png": "[encoded data removed]",
      "text/plain": [
       "<Figure size 432x288 with 2 Axes>"
      ]
     },
     "metadata": {
      "needs_background": "light"
     },
     "output_type": "display_data"
    }
   ],
   "source": [
    "plot_confusion_matrix(cm, y_guide['y_value'], title=\"Confussion Matrix\")"
   ]
  },
  {
   "cell_type": "code",
   "execution_count": 50,
   "metadata": {},
   "outputs": [],
   "source": [
    "aciertos = 0\n",
    "total = 0\n",
    "for i in range(len(cm)):\n",
    "    for j in range(len(cm[0])):\n",
    "        total+=cm[i][j]\n",
    "        if(j == i):\n",
    "            aciertos += cm[i][j] "
   ]
  },
  {
   "cell_type": "code",
   "execution_count": 51,
   "metadata": {},
   "outputs": [
    {
     "name": "stdout",
     "output_type": "stream",
     "text": [
      "Test Set Metrics\n",
      "acc: 0.06749156355455568\n"
     ]
    }
   ],
   "source": [
    "print(\"Test Set Metrics\")\n",
    "print(\"acc:\",aciertos/total)"
   ]
  },
  {
   "cell_type": "code",
   "execution_count": 52,
   "metadata": {},
   "outputs": [
    {
     "data": {
      "text/plain": [
       "array([221., 190., 269., 148., 270., 224., 123., 263., 277., 212., 290.,\n",
       "       296., 282., 210., 281.])"
      ]
     },
     "metadata": {},
     "output_type": "display_data"
    },
    {
     "data": {
      "text/plain": [
       "array([172., 123., 387.,  39., 323., 310.,  49., 422., 225., 181., 310.,\n",
       "       197., 369., 176., 273.])"
      ]
     },
     "metadata": {},
     "output_type": "display_data"
    },
    {
     "data": {
      "text/plain": [
       "array([11.,  5., 29.,  1., 21., 17.,  2., 37., 13.,  8., 18., 14., 33.,\n",
       "       12., 19.])"
      ]
     },
     "metadata": {},
     "output_type": "display_data"
    },
    {
     "name": "stdout",
     "output_type": "stream",
     "text": [
      "\n",
      "\n",
      "Métricas de la Matriz de Confusión:\n",
      "\n",
      "Accuracy: 0.06749156355455568\n",
      "--------------------------------\n",
      "Precision de la clase: [0.06395349 0.04065041 0.0749354  0.02564103 0.06501548 0.05483871\n",
      " 0.04081633 0.08767773 0.05777778 0.0441989  0.05806452 0.07106599\n",
      " 0.08943089 0.06818182 0.06959707]\n",
      "--------------------------------\n",
      "Sensibilidad: [0.04977376 0.02631579 0.10780669 0.00675676 0.07777778 0.07589286\n",
      " 0.01626016 0.14068441 0.04693141 0.03773585 0.06206897 0.0472973\n",
      " 0.11702128 0.05714286 0.06761566]\n",
      "--------------------------------\n",
      "Especificidad: [0.06866567 0.06981581 0.06419227 0.07012911 0.06664638 0.06692677\n",
      " 0.06932712 0.06164592 0.06922842 0.06937799 0.06797306 0.06932515\n",
      " 0.06322541 0.06814106 0.06748092]\n",
      "--------------------------------\n"
     ]
    }
   ],
   "source": [
    "matrix = cm\n",
    "\n",
    "precision = np.zeros((len(matrix)))\n",
    "especificidad = np.zeros((len(matrix)))\n",
    "sensibilidad = np.zeros((len(matrix)))\n",
    "miAccuracy = 0\n",
    "\n",
    "\n",
    "sumaHorizontal = np.zeros((len(matrix)))\n",
    "sumaVertical = np.zeros((len(matrix)))\n",
    "sumaDiagonal = np.zeros((len(matrix)))\n",
    "\n",
    "for i in range(len(sumaHorizontal)):\n",
    "    sumaHorizontal[i] = matrix[i].sum() \n",
    "    \n",
    "for i in range(len(sumaVertical)):\n",
    "    for j in range(len(sumaVertical)):\n",
    "        sumaVertical[i] += matrix[j][i]\n",
    "    \n",
    "for i in range(len(sumaDiagonal)):\n",
    "    sumaDiagonal[i] = matrix[i][i]\n",
    "    \n",
    "display(sumaHorizontal)\n",
    "display(sumaVertical)\n",
    "display(sumaDiagonal)\n",
    "\n",
    "for i in range(len(precision)):\n",
    "    precision[i] = matrix[i][i]/sumaVertical[i]\n",
    "    \n",
    "for i in range(len(sensibilidad)):\n",
    "    sensibilidad[i] = matrix[i][i]/sumaHorizontal[i]\n",
    "    \n",
    "for i in range(len(especificidad)):\n",
    "    especificidad[i] = (sumaDiagonal[:i].sum()+sumaDiagonal[(i+1):].sum())/(sumaHorizontal[:i].sum()+sumaHorizontal[(i+1):].sum())\n",
    "    \n",
    "miAccuracy = sumaDiagonal.sum()/sumaHorizontal.sum()\n",
    "print(\"\")\n",
    "print(\"\")\n",
    "print(\"Métricas de la Matriz de Confusión:\")\n",
    "print(\"\")\n",
    "print(\"Accuracy:\",miAccuracy)\n",
    "print(\"--------------------------------\")\n",
    "print(\"Precision de la clase:\",precision)\n",
    "print(\"--------------------------------\")\n",
    "print(\"Sensibilidad:\",sensibilidad)\n",
    "print(\"--------------------------------\")\n",
    "print(\"Especificidad:\",especificidad)\n",
    "print(\"--------------------------------\")"
   ]
  },
  {
   "cell_type": "code",
   "execution_count": null,
   "metadata": {},
   "outputs": [],
   "source": []
  }
 ],
 "metadata": {
  "kernelspec": {
   "display_name": "Python 3",
   "language": "python",
   "name": "python3"
  },
  "language_info": {
   "codemirror_mode": {
    "name": "ipython",
    "version": 3
   },
   "file_extension": ".py",
   "mimetype": "text/x-python",
   "name": "python",
   "nbconvert_exporter": "python",
   "pygments_lexer": "ipython3",
   "version": "3.7.6"
  }
 },
 "nbformat": 4,
 "nbformat_minor": 4
}
