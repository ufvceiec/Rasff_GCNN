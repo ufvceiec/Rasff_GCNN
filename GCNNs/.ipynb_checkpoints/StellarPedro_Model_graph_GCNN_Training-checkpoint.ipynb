{
 "cells": [
  {
   "cell_type": "code",
   "execution_count": 1,
   "metadata": {},
   "outputs": [],
   "source": [
    "#Este notebook se centra en el diseño de la red y en su entrenamiento."
   ]
  },
  {
   "cell_type": "markdown",
   "metadata": {},
   "source": [
    "## Librerías"
   ]
  },
  {
   "cell_type": "code",
   "execution_count": 2,
   "metadata": {},
   "outputs": [],
   "source": [
    "import numpy as np\n",
    "import pandas as pd\n",
    "import stellargraph as sg\n",
    "import tensorflow as tf\n",
    "\n",
    "from stellargraph.mapper import PaddedGraphGenerator\n",
    "from stellargraph.layer import DeepGraphCNN\n",
    "from stellargraph import StellarGraph\n",
    "\n",
    "from sklearn import model_selection\n",
    "from sklearn.preprocessing import OrdinalEncoder\n",
    "from sklearn.metrics import confusion_matrix\n",
    "\n",
    "from IPython.display import display, HTML\n",
    "\n",
    "from tensorflow.keras import Model\n",
    "from tensorflow.keras import optimizers as opt\n",
    "from tensorflow.keras.layers import Dense, Conv1D, MaxPool1D, Dropout, Flatten\n",
    "from tensorflow.keras import losses"
   ]
  },
  {
   "cell_type": "markdown",
   "metadata": {},
   "source": [
    "## Carga de los datos"
   ]
  },
  {
   "cell_type": "code",
   "execution_count": 3,
   "metadata": {},
   "outputs": [],
   "source": [
    "#Cargamos los datos guardados del notebok anterior con el %store\n",
    "%store -r lista_grafos\n",
    "%store -r graph_labels\n",
    "%store -r y_guide"
   ]
  },
  {
   "cell_type": "code",
   "execution_count": 4,
   "metadata": {},
   "outputs": [],
   "source": [
    "graph_labels = pd.get_dummies(graph_labels, drop_first=True)"
   ]
  },
  {
   "cell_type": "code",
   "execution_count": 5,
   "metadata": {},
   "outputs": [
    {
     "name": "stdout",
     "output_type": "stream",
     "text": [
      "StellarDiGraph: Directed multigraph\n",
      " Nodes: 158, Edges: 1\n",
      "\n",
      " Node types:\n",
      "  default: [158]\n",
      "    Features: float32 vector, length 1\n",
      "    Edge types: default-default->default\n",
      "\n",
      " Edge types:\n",
      "    default-default->default: [1]\n",
      "        Weights: all 1 (default)\n",
      "        Features: none\n"
     ]
    }
   ],
   "source": [
    "print(lista_grafos[17].info())"
   ]
  },
  {
   "cell_type": "markdown",
   "metadata": {},
   "source": [
    "## Diseño de la red"
   ]
  },
  {
   "cell_type": "code",
   "execution_count": 36,
   "metadata": {},
   "outputs": [],
   "source": [
    "#Creo que ignora la matriz de edges, hay que ver si se puede poner esa info en los pesos de las conexiones. \n",
    "#Ver si se puede usar otro generator. (No es viable).\n",
    "#Soluciones -> Pasar el producto al nodo, o probar con las conexiones.\n",
    "#\n",
    "generator = PaddedGraphGenerator(graphs=lista_grafos)"
   ]
  },
  {
   "cell_type": "code",
   "execution_count": 37,
   "metadata": {},
   "outputs": [],
   "source": [
    "#graphs, 50, [128, 64, 32, 32, 16], ['tanh', 'tanh', 'tanh', 'tanh', 'tanh'], 'relu', 5, 1024, 'optimizers.Adam()', 1, 5, 0.25"
   ]
  },
  {
   "cell_type": "code",
   "execution_count": 38,
   "metadata": {},
   "outputs": [],
   "source": [
    "k = 50  #The number of rows for the output tensor\n",
    "layer_sizes = [128, 64, 32, 32, 16]\n",
    "\n",
    "dgcnn_model = DeepGraphCNN(\n",
    "    layer_sizes=layer_sizes,\n",
    "    activations=['tanh', 'tanh', 'tanh', 'tanh', 'tanh'],\n",
    "    k=k,\n",
    "    bias=False,\n",
    "    generator=generator,\n",
    ")\n",
    "x_inp, x_out = dgcnn_model.in_out_tensors()"
   ]
  },
  {
   "cell_type": "code",
   "execution_count": 39,
   "metadata": {},
   "outputs": [],
   "source": [
    "x_out = Conv1D(filters=16, kernel_size=sum(layer_sizes), strides=sum(layer_sizes))(x_out)\n",
    "x_out = MaxPool1D(pool_size=2)(x_out)\n",
    "x_out = Flatten()(x_out)\n",
    "x_out = Dropout(rate=0.25)(x_out)\n",
    "x_out = Dense(units=1024, activation=\"relu\")(x_out)\n",
    "x_out = Dense(units=512, activation=\"relu\")(x_out)\n",
    "x_out = Dense(units=256, activation=\"relu\")(x_out)\n",
    "x_out = Dense(units=128, activation=\"relu\")(x_out)\n",
    "x_out = Dropout(rate=0.25)(x_out)\n",
    "x_out = Dense(units=64, activation=\"relu\")(x_out)\n",
    "\n",
    "predictions = Dense(units=1, activation=\"sigmoid\")(x_out)"
   ]
  },
  {
   "cell_type": "code",
   "execution_count": 40,
   "metadata": {},
   "outputs": [],
   "source": [
    "model = Model(inputs=x_inp, outputs=predictions)\n",
    "\n",
    "model.compile(\n",
    "    optimizer= opt.Adam(), loss=losses.BinaryCrossentropy(), metrics=[\"acc\"],\n",
    ")"
   ]
  },
  {
   "cell_type": "code",
   "execution_count": 48,
   "metadata": {},
   "outputs": [],
   "source": [
    "train_graphs, test_graphs = model_selection.train_test_split(\n",
    "    lista_grafos, train_size=0.75, test_size=None, stratify=graph_labels, #graph_labels, train_size=0.75, test_size=None, stratify=graph_labels,\n",
    ")\n",
    "#Randomizar los datos"
   ]
  },
  {
   "cell_type": "code",
   "execution_count": 49,
   "metadata": {},
   "outputs": [
    {
     "data": {
      "text/plain": [
       "2550"
      ]
     },
     "execution_count": 49,
     "metadata": {},
     "output_type": "execute_result"
    }
   ],
   "source": [
    "len(train_graphs)"
   ]
  },
  {
   "cell_type": "code",
   "execution_count": 50,
   "metadata": {},
   "outputs": [
    {
     "data": {
      "text/plain": [
       "850"
      ]
     },
     "execution_count": 50,
     "metadata": {},
     "output_type": "execute_result"
    }
   ],
   "source": [
    "len(test_graphs)"
   ]
  },
  {
   "cell_type": "code",
   "execution_count": 51,
   "metadata": {},
   "outputs": [],
   "source": [
    "gen = PaddedGraphGenerator(graphs=lista_grafos)\n",
    "\n",
    "train_gen = gen.flow(\n",
    "    train_graphs,\n",
    "    targets=graph_labels[:2550],\n",
    "    weighted = True,\n",
    "    batch_size=1, \n",
    "    symmetric_normalization=True, #True?\n",
    "    #seed = 0,\n",
    ")\n",
    "\n",
    "test_gen = gen.flow(\n",
    "    test_graphs,\n",
    "    targets=graph_labels[2550:],\n",
    "    batch_size=1,\n",
    "    symmetric_normalization=True,\n",
    "    weighted = True,\n",
    "    #seed = 0,\n",
    ")"
   ]
  },
  {
   "cell_type": "code",
   "execution_count": 52,
   "metadata": {},
   "outputs": [],
   "source": [
    "#train_graphs\n",
    "#print(lista_grafos[0].info())\n",
    "#list(train_graphs.index - 1)"
   ]
  },
  {
   "cell_type": "code",
   "execution_count": 53,
   "metadata": {},
   "outputs": [
    {
     "name": "stdout",
     "output_type": "stream",
     "text": [
      "Model: \"functional_5\"\n",
      "__________________________________________________________________________________________________\n",
      "Layer (type)                    Output Shape         Param #     Connected to                     \n",
      "==================================================================================================\n",
      "input_7 (InputLayer)            [(None, None, 1)]    0                                            \n",
      "__________________________________________________________________________________________________\n",
      "dropout_14 (Dropout)            (None, None, 1)      0           input_7[0][0]                    \n",
      "__________________________________________________________________________________________________\n",
      "input_9 (InputLayer)            [(None, None, None)] 0                                            \n",
      "__________________________________________________________________________________________________\n",
      "graph_convolution_10 (GraphConv (None, None, 128)    128         dropout_14[0][0]                 \n",
      "                                                                 input_9[0][0]                    \n",
      "__________________________________________________________________________________________________\n",
      "dropout_15 (Dropout)            (None, None, 128)    0           graph_convolution_10[0][0]       \n",
      "__________________________________________________________________________________________________\n",
      "graph_convolution_11 (GraphConv (None, None, 64)     8192        dropout_15[0][0]                 \n",
      "                                                                 input_9[0][0]                    \n",
      "__________________________________________________________________________________________________\n",
      "dropout_16 (Dropout)            (None, None, 64)     0           graph_convolution_11[0][0]       \n",
      "__________________________________________________________________________________________________\n",
      "graph_convolution_12 (GraphConv (None, None, 32)     2048        dropout_16[0][0]                 \n",
      "                                                                 input_9[0][0]                    \n",
      "__________________________________________________________________________________________________\n",
      "dropout_17 (Dropout)            (None, None, 32)     0           graph_convolution_12[0][0]       \n",
      "__________________________________________________________________________________________________\n",
      "graph_convolution_13 (GraphConv (None, None, 32)     1024        dropout_17[0][0]                 \n",
      "                                                                 input_9[0][0]                    \n",
      "__________________________________________________________________________________________________\n",
      "dropout_18 (Dropout)            (None, None, 32)     0           graph_convolution_13[0][0]       \n",
      "__________________________________________________________________________________________________\n",
      "graph_convolution_14 (GraphConv (None, None, 16)     512         dropout_18[0][0]                 \n",
      "                                                                 input_9[0][0]                    \n",
      "__________________________________________________________________________________________________\n",
      "tf_op_layer_concat_2 (TensorFlo [(None, None, 272)]  0           graph_convolution_10[0][0]       \n",
      "                                                                 graph_convolution_11[0][0]       \n",
      "                                                                 graph_convolution_12[0][0]       \n",
      "                                                                 graph_convolution_13[0][0]       \n",
      "                                                                 graph_convolution_14[0][0]       \n",
      "__________________________________________________________________________________________________\n",
      "input_8 (InputLayer)            [(None, None)]       0                                            \n",
      "__________________________________________________________________________________________________\n",
      "sort_pooling_2 (SortPooling)    (None, 13600, 1)     0           tf_op_layer_concat_2[0][0]       \n",
      "                                                                 input_8[0][0]                    \n",
      "__________________________________________________________________________________________________\n",
      "conv1d_1 (Conv1D)               (None, 50, 16)       4368        sort_pooling_2[0][0]             \n",
      "__________________________________________________________________________________________________\n",
      "max_pooling1d_2 (MaxPooling1D)  (None, 25, 16)       0           conv1d_1[0][0]                   \n",
      "__________________________________________________________________________________________________\n",
      "flatten_2 (Flatten)             (None, 400)          0           max_pooling1d_2[0][0]            \n",
      "__________________________________________________________________________________________________\n",
      "dropout_19 (Dropout)            (None, 400)          0           flatten_2[0][0]                  \n",
      "__________________________________________________________________________________________________\n",
      "dense_12 (Dense)                (None, 1024)         410624      dropout_19[0][0]                 \n",
      "__________________________________________________________________________________________________\n",
      "dense_13 (Dense)                (None, 512)          524800      dense_12[0][0]                   \n",
      "__________________________________________________________________________________________________\n",
      "dense_14 (Dense)                (None, 256)          131328      dense_13[0][0]                   \n",
      "__________________________________________________________________________________________________\n",
      "dense_15 (Dense)                (None, 128)          32896       dense_14[0][0]                   \n",
      "__________________________________________________________________________________________________\n",
      "dropout_20 (Dropout)            (None, 128)          0           dense_15[0][0]                   \n",
      "__________________________________________________________________________________________________\n",
      "dense_16 (Dense)                (None, 64)           8256        dropout_20[0][0]                 \n",
      "__________________________________________________________________________________________________\n",
      "dense_17 (Dense)                (None, 1)            65          dense_16[0][0]                   \n",
      "==================================================================================================\n",
      "Total params: 1,124,241\n",
      "Trainable params: 1,124,241\n",
      "Non-trainable params: 0\n",
      "__________________________________________________________________________________________________\n"
     ]
    }
   ],
   "source": [
    "model.summary()"
   ]
  },
  {
   "cell_type": "code",
   "execution_count": 54,
   "metadata": {},
   "outputs": [],
   "source": [
    "#graph_labels.value_counts()"
   ]
  },
  {
   "cell_type": "code",
   "execution_count": 55,
   "metadata": {},
   "outputs": [
    {
     "data": {
      "text/plain": [
       "1.0    428\n",
       "dtype: int64"
      ]
     },
     "execution_count": 55,
     "metadata": {},
     "output_type": "execute_result"
    }
   ],
   "source": [
    "graph_labels[2550:].sum() #.groupby(graph_labels.columns[0]).count()"
   ]
  },
  {
   "cell_type": "markdown",
   "metadata": {},
   "source": [
    "## Entrenamiento "
   ]
  },
  {
   "cell_type": "code",
   "execution_count": 56,
   "metadata": {},
   "outputs": [],
   "source": [
    "epochs = 40"
   ]
  },
  {
   "cell_type": "code",
   "execution_count": 57,
   "metadata": {},
   "outputs": [
    {
     "name": "stdout",
     "output_type": "stream",
     "text": [
      "Epoch 1/40\n"
     ]
    },
    {
     "name": "stderr",
     "output_type": "stream",
     "text": [
      "C:\\Users\\Ceiec04\\anaconda3\\lib\\site-packages\\tensorflow\\python\\framework\\indexed_slices.py:433: UserWarning: Converting sparse IndexedSlices to a dense Tensor of unknown shape. This may consume a large amount of memory.\n",
      "  \"Converting sparse IndexedSlices to a dense Tensor of unknown shape. \"\n"
     ]
    },
    {
     "name": "stdout",
     "output_type": "stream",
     "text": [
      "2550/2550 [==============================] - 22s 9ms/step - loss: 0.6929 - acc: 0.5251 - val_loss: 0.7040 - val_acc: 0.5035\n",
      "Epoch 2/40\n",
      "2550/2550 [==============================] - 23s 9ms/step - loss: 0.6946 - acc: 0.4945 - val_loss: 0.6933 - val_acc: 0.4965\n",
      "Epoch 3/40\n",
      "2550/2550 [==============================] - 23s 9ms/step - loss: 0.6945 - acc: 0.5055 - val_loss: 0.6931 - val_acc: 0.5035\n",
      "Epoch 4/40\n",
      "2550/2550 [==============================] - 23s 9ms/step - loss: 0.6939 - acc: 0.4918 - val_loss: 0.6932 - val_acc: 0.4965\n",
      "Epoch 5/40\n",
      "2550/2550 [==============================] - 23s 9ms/step - loss: 0.6936 - acc: 0.4882 - val_loss: 0.6932 - val_acc: 0.4965\n",
      "Epoch 6/40\n",
      "2550/2550 [==============================] - 23s 9ms/step - loss: 0.6937 - acc: 0.4953 - val_loss: 0.6931 - val_acc: 0.5035\n",
      "Epoch 7/40\n",
      "2550/2550 [==============================] - 23s 9ms/step - loss: 0.6937 - acc: 0.4882 - val_loss: 0.6931 - val_acc: 0.5035\n",
      "Epoch 8/40\n",
      "2550/2550 [==============================] - 23s 9ms/step - loss: 0.6939 - acc: 0.5004 - val_loss: 0.6931 - val_acc: 0.5035\n",
      "Epoch 9/40\n",
      "2550/2550 [==============================] - 23s 9ms/step - loss: 0.6933 - acc: 0.5090 - val_loss: 0.6934 - val_acc: 0.5035\n",
      "Epoch 10/40\n",
      "2550/2550 [==============================] - 23s 9ms/step - loss: 0.6936 - acc: 0.4945 - val_loss: 0.6931 - val_acc: 0.5035\n",
      "Epoch 11/40\n",
      "2550/2550 [==============================] - 21s 8ms/step - loss: 0.6934 - acc: 0.4886 - val_loss: 0.6931 - val_acc: 0.5035\n",
      "Epoch 12/40\n",
      "2550/2550 [==============================] - 21s 8ms/step - loss: 0.6934 - acc: 0.4800 - val_loss: 0.6931 - val_acc: 0.5035\n",
      "Epoch 13/40\n",
      "2550/2550 [==============================] - 21s 8ms/step - loss: 0.6934 - acc: 0.4812 - val_loss: 0.6931 - val_acc: 0.5035\n",
      "Epoch 14/40\n",
      "2550/2550 [==============================] - 21s 8ms/step - loss: 0.6934 - acc: 0.4906 - val_loss: 0.6932 - val_acc: 0.4965\n",
      "Epoch 15/40\n",
      "2550/2550 [==============================] - 22s 8ms/step - loss: 0.6934 - acc: 0.4882 - val_loss: 0.6932 - val_acc: 0.4965\n",
      "Epoch 16/40\n",
      "2550/2550 [==============================] - 21s 8ms/step - loss: 0.6934 - acc: 0.4839 - val_loss: 0.6931 - val_acc: 0.4965\n",
      "Epoch 17/40\n",
      "2550/2550 [==============================] - 21s 8ms/step - loss: 0.6934 - acc: 0.4918 - val_loss: 0.6931 - val_acc: 0.4965\n",
      "Epoch 18/40\n",
      "2550/2550 [==============================] - 21s 8ms/step - loss: 0.6934 - acc: 0.4914 - val_loss: 0.6931 - val_acc: 0.4965\n",
      "Epoch 19/40\n",
      "2550/2550 [==============================] - 21s 8ms/step - loss: 0.6934 - acc: 0.4835 - val_loss: 0.6932 - val_acc: 0.4965\n",
      "Epoch 20/40\n",
      "2550/2550 [==============================] - 21s 8ms/step - loss: 0.6934 - acc: 0.4871 - val_loss: 0.6932 - val_acc: 0.4965\n",
      "Epoch 21/40\n",
      "2550/2550 [==============================] - 21s 8ms/step - loss: 0.6934 - acc: 0.4953 - val_loss: 0.6932 - val_acc: 0.4965\n",
      "Epoch 22/40\n",
      "2550/2550 [==============================] - 21s 8ms/step - loss: 0.6934 - acc: 0.4871 - val_loss: 0.6931 - val_acc: 0.5035\n",
      "Epoch 23/40\n",
      "2550/2550 [==============================] - 21s 8ms/step - loss: 0.6934 - acc: 0.4871 - val_loss: 0.6932 - val_acc: 0.4965\n",
      "Epoch 24/40\n",
      "2550/2550 [==============================] - 21s 8ms/step - loss: 0.6934 - acc: 0.4980 - val_loss: 0.6931 - val_acc: 0.5035\n",
      "Epoch 25/40\n",
      "2550/2550 [==============================] - 21s 8ms/step - loss: 0.6933 - acc: 0.4957 - val_loss: 0.6932 - val_acc: 0.4965\n",
      "Epoch 26/40\n",
      "2550/2550 [==============================] - 21s 8ms/step - loss: 0.6934 - acc: 0.4961 - val_loss: 0.6931 - val_acc: 0.5035\n",
      "Epoch 27/40\n",
      "2550/2550 [==============================] - 21s 8ms/step - loss: 0.6934 - acc: 0.4882 - val_loss: 0.6931 - val_acc: 0.5035\n",
      "Epoch 28/40\n",
      "2550/2550 [==============================] - 21s 8ms/step - loss: 0.6933 - acc: 0.5051 - val_loss: 0.6933 - val_acc: 0.4965\n",
      "Epoch 29/40\n",
      "2550/2550 [==============================] - 21s 8ms/step - loss: 0.6934 - acc: 0.5012 - val_loss: 0.6932 - val_acc: 0.4965\n",
      "Epoch 30/40\n",
      "2550/2550 [==============================] - 22s 8ms/step - loss: 0.6934 - acc: 0.4769 - val_loss: 0.6932 - val_acc: 0.4965\n",
      "Epoch 31/40\n",
      "2550/2550 [==============================] - 21s 8ms/step - loss: 0.6933 - acc: 0.4922 - val_loss: 0.6931 - val_acc: 0.5035\n",
      "Epoch 32/40\n",
      "2550/2550 [==============================] - 21s 8ms/step - loss: 0.6934 - acc: 0.4851 - val_loss: 0.6932 - val_acc: 0.4965\n",
      "Epoch 33/40\n",
      "2550/2550 [==============================] - 21s 8ms/step - loss: 0.6934 - acc: 0.4875 - val_loss: 0.6932 - val_acc: 0.4965\n",
      "Epoch 34/40\n",
      "2550/2550 [==============================] - 21s 8ms/step - loss: 0.6933 - acc: 0.4984 - val_loss: 0.6932 - val_acc: 0.4965\n",
      "Epoch 35/40\n",
      "2550/2550 [==============================] - 21s 8ms/step - loss: 0.6934 - acc: 0.4812 - val_loss: 0.6932 - val_acc: 0.4965\n",
      "Epoch 36/40\n",
      "2550/2550 [==============================] - 21s 8ms/step - loss: 0.6934 - acc: 0.4914 - val_loss: 0.6931 - val_acc: 0.5035\n",
      "Epoch 37/40\n",
      "2550/2550 [==============================] - 21s 8ms/step - loss: 0.6933 - acc: 0.4925 - val_loss: 0.6931 - val_acc: 0.5035\n",
      "Epoch 38/40\n",
      "2550/2550 [==============================] - 21s 8ms/step - loss: 0.6934 - acc: 0.4941 - val_loss: 0.6932 - val_acc: 0.4965\n",
      "Epoch 39/40\n",
      "2550/2550 [==============================] - 21s 8ms/step - loss: 0.6933 - acc: 0.4945 - val_loss: 0.6931 - val_acc: 0.4965\n",
      "Epoch 40/40\n",
      "2550/2550 [==============================] - 21s 8ms/step - loss: 0.6934 - acc: 0.4898 - val_loss: 0.6932 - val_acc: 0.4965\n"
     ]
    }
   ],
   "source": [
    "history = model.fit(\n",
    "    train_gen, epochs=epochs, verbose=1, validation_data=test_gen, shuffle=True,\n",
    ")"
   ]
  },
  {
   "cell_type": "code",
   "execution_count": 58,
   "metadata": {},
   "outputs": [
    {
     "data": {
      "image/png": "[encoded data removed]",
      "text/plain": [
       "<Figure size 504x576 with 2 Axes>"
      ]
     },
     "metadata": {
      "needs_background": "light"
     },
     "output_type": "display_data"
    }
   ],
   "source": [
    "sg.utils.plot_history(history)"
   ]
  },
  {
   "cell_type": "code",
   "execution_count": 59,
   "metadata": {},
   "outputs": [
    {
     "name": "stdout",
     "output_type": "stream",
     "text": [
      "850/850 [==============================] - 1s 2ms/step - loss: 0.6932 - acc: 0.4965\n",
      "\n",
      "Test Set Metrics:\n",
      "\tloss: 0.6932\n",
      "\tacc: 0.4965\n"
     ]
    }
   ],
   "source": [
    "test_metrics = model.evaluate(test_gen)\n",
    "print(\"\\nTest Set Metrics:\")\n",
    "for name, val in zip(model.metrics_names, test_metrics):\n",
    "    print(\"\\t{}: {:0.4f}\".format(name, val))"
   ]
  },
  {
   "cell_type": "code",
   "execution_count": 60,
   "metadata": {},
   "outputs": [
    {
     "ename": "NameError",
     "evalue": "name 'prediction' is not defined",
     "output_type": "error",
     "traceback": [
      "\u001b[1;31m---------------------------------------------------------------------------\u001b[0m",
      "\u001b[1;31mNameError\u001b[0m                                 Traceback (most recent call last)",
      "\u001b[1;32m<ipython-input-60-7427cdaf8d2e>\u001b[0m in \u001b[0;36m<module>\u001b[1;34m\u001b[0m\n\u001b[1;32m----> 1\u001b[1;33m \u001b[0mprediction\u001b[0m \u001b[1;33m=\u001b[0m \u001b[0mnp\u001b[0m\u001b[1;33m.\u001b[0m\u001b[0mround\u001b[0m\u001b[1;33m(\u001b[0m\u001b[0mprediction\u001b[0m\u001b[1;33m)\u001b[0m\u001b[1;33m\u001b[0m\u001b[1;33m\u001b[0m\u001b[0m\n\u001b[0m",
      "\u001b[1;31mNameError\u001b[0m: name 'prediction' is not defined"
     ]
    }
   ],
   "source": [
    "prediction = np.round(prediction)"
   ]
  },
  {
   "cell_type": "code",
   "execution_count": null,
   "metadata": {},
   "outputs": [],
   "source": [
    "matrix = confusion_matrix(graph_labels[2550:].to_numpy(), prediction)\n",
    "matrix"
   ]
  },
  {
   "cell_type": "code",
   "execution_count": null,
   "metadata": {},
   "outputs": [],
   "source": [
    "test_data_X = 0\n",
    "prediction = model.predict(test_gen)\n",
    "display(prediction[1:10])"
   ]
  },
  {
   "cell_type": "code",
   "execution_count": null,
   "metadata": {},
   "outputs": [],
   "source": [
    "cont = 2550\n",
    "for i in range(len(prediction[:40])):\n",
    "    display(\"El valor predicho es: \" + str(np.round(prediction[i])) +\" con valor: \"+ str(prediction[i]) + \" El valor real es: \" + str(graph_labels.iloc[i+cont][0]))\n"
   ]
  },
  {
   "cell_type": "code",
   "execution_count": null,
   "metadata": {},
   "outputs": [],
   "source": []
  },
  {
   "cell_type": "code",
   "execution_count": null,
   "metadata": {},
   "outputs": [],
   "source": []
  },
  {
   "cell_type": "code",
   "execution_count": null,
   "metadata": {},
   "outputs": [],
   "source": []
  },
  {
   "cell_type": "code",
   "execution_count": null,
   "metadata": {},
   "outputs": [],
   "source": []
  },
  {
   "cell_type": "code",
   "execution_count": null,
   "metadata": {},
   "outputs": [],
   "source": []
  },
  {
   "cell_type": "code",
   "execution_count": null,
   "metadata": {},
   "outputs": [],
   "source": []
  },
  {
   "cell_type": "code",
   "execution_count": null,
   "metadata": {},
   "outputs": [],
   "source": []
  },
  {
   "cell_type": "code",
   "execution_count": null,
   "metadata": {},
   "outputs": [],
   "source": []
  }
 ],
 "metadata": {
  "kernelspec": {
   "display_name": "Python 3",
   "language": "python",
   "name": "python3"
  },
  "language_info": {
   "codemirror_mode": {
    "name": "ipython",
    "version": 3
   },
   "file_extension": ".py",
   "mimetype": "text/x-python",
   "name": "python",
   "nbconvert_exporter": "python",
   "pygments_lexer": "ipython3",
   "version": "3.7.6"
  }
 },
 "nbformat": 4,
 "nbformat_minor": 4
}
