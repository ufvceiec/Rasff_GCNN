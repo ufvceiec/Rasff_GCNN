{
 "cells": [
  {
   "cell_type": "code",
   "execution_count": 25,
   "metadata": {},
   "outputs": [],
   "source": [
    "#Este notebok pretende mostrar las clases cuya cat_amenaza se parecen más entre sí, \n",
    "#teniendo en cuenta los productos involucrados y los países involucrados.\n",
    "\n",
    "#Entradas: -> './full_RASFF_DATA.csv'.\n",
    "        #---> './Lista_Categoria_Amenazas.csv'.\n",
    "#Salidas: --> 'dendogram.jpg'."
   ]
  },
  {
   "cell_type": "markdown",
   "metadata": {},
   "source": [
    "## Librerías"
   ]
  },
  {
   "cell_type": "code",
   "execution_count": 26,
   "metadata": {},
   "outputs": [],
   "source": [
    "import pandas as pd\n",
    "import numpy as np\n",
    "import matplotlib.pyplot as plt\n",
    "\n",
    "from sklearn.cluster import AgglomerativeClustering\n",
    "from scipy.cluster.hierarchy import dendrogram, linkage, cophenet\n",
    "from scipy.spatial.distance import pdist"
   ]
  },
  {
   "cell_type": "markdown",
   "metadata": {},
   "source": [
    "## Cargar los datos"
   ]
  },
  {
   "cell_type": "code",
   "execution_count": 27,
   "metadata": {},
   "outputs": [],
   "source": [
    "df = pd.read_csv('./../Datasets/full_RASFF_DATA.csv', sep=';', header=0, index_col = 0)"
   ]
  },
  {
   "cell_type": "code",
   "execution_count": 28,
   "metadata": {},
   "outputs": [],
   "source": [
    "df_cat_amenazas = pd.read_csv('./../Datasets/Lista_Categoria_Amenazas.csv', header=0, index_col = 0)\n"
   ]
  },
  {
   "cell_type": "code",
   "execution_count": 29,
   "metadata": {},
   "outputs": [],
   "source": [
    "cat_amenazas_eliminar = df_cat_amenazas.tail(10)"
   ]
  },
  {
   "cell_type": "markdown",
   "metadata": {},
   "source": [
    "## Preprocesamiento"
   ]
  },
  {
   "cell_type": "code",
   "execution_count": 30,
   "metadata": {},
   "outputs": [],
   "source": [
    "df = df.replace(np.nan, \"\", regex=True)"
   ]
  },
  {
   "cell_type": "code",
   "execution_count": 31,
   "metadata": {},
   "outputs": [],
   "source": [
    "#Seleccionamos la primera categoría de amenaza entre todas las posibles\n",
    "for index, row in df.iterrows():\n",
    "    row['HAZARDS_CAT'] = row['HAZARDS_CAT'].split(\",\")[0]"
   ]
  },
  {
   "cell_type": "code",
   "execution_count": 32,
   "metadata": {},
   "outputs": [],
   "source": [
    "#Eliminamos las fechas que no nos interesan.\n",
    "fecha_maxima = \"2021\" #Primer año que no queremos coger.\n",
    "df = df.loc[df['DATE_CASE'] < fecha_maxima]"
   ]
  },
  {
   "cell_type": "code",
   "execution_count": 33,
   "metadata": {},
   "outputs": [],
   "source": [
    "#Eliminamos las categorias amenazas que se repiten muy poco.\n",
    "df_eliminar = df.drop(df.index, inplace=False)\n",
    "\n",
    "for index, row in df.iterrows():\n",
    "    #Eliminamos las categorías de amenazas inválidas.\n",
    "    for j in (row[\"HAZARDS_CAT\"].split(\",\")):\n",
    "        if (j in cat_amenazas_eliminar['Cat_Amenaza'].values \n",
    "            or row[\"HAZARDS_CAT\"] == \"\"\n",
    "            or row[\"HAZARDS_CAT\"] == \" \"):\n",
    "            df_eliminar.loc[df_eliminar.shape[0]] = row\n",
    "#Eliminamos por columna REF.\n",
    "cond = df['REF'].isin(df_eliminar['REF'])\n",
    "df.drop(df[cond].index, inplace = True)"
   ]
  },
  {
   "cell_type": "code",
   "execution_count": 34,
   "metadata": {},
   "outputs": [],
   "source": [
    "#Creamos 2 datasets, uno con los parámetros a entrenar (df) y otro con la información relativa a cada registro (df_info)\n",
    "df_info = df[['REF','PRODUCT','HAZARDS','DATE_CASE','CLASSIF','TYPE','RISK_DECISION', 'ACTION_TAKEN','DISTRIBUTION_STAT','NOT_COUNTRY']].reset_index(drop = True)\n",
    "df = df[['PROD_CAT','HAZARDS_CAT','COUNT_ORIGEN','COUNT_CONCERN','COUNT_DESTIN']].reset_index(drop = True)"
   ]
  },
  {
   "cell_type": "markdown",
   "metadata": {},
   "source": [
    "## One hot encoding"
   ]
  },
  {
   "cell_type": "code",
   "execution_count": 35,
   "metadata": {},
   "outputs": [],
   "source": [
    "df_aux = df['COUNT_ORIGEN'].str.join(sep='').str.get_dummies(sep=',').reset_index(drop=True)\n",
    "df_aux = df_aux.drop(df_aux.columns[0], axis=1)\n",
    "#df_aux"
   ]
  },
  {
   "cell_type": "code",
   "execution_count": 36,
   "metadata": {},
   "outputs": [],
   "source": [
    "df_onehot = pd.DataFrame(df['PROD_CAT'], columns = ['PROD_CAT'])\n",
    "\n",
    "listaPaises = []\n",
    "\n",
    "for index, row in df.iterrows():\n",
    "    #Variable para guardar todos los países.\n",
    "    paises1 = \"\"\n",
    "    #Rellenamos la variable.\n",
    "    if(isinstance(row['COUNT_ORIGEN'], str)):\n",
    "        if(row['COUNT_ORIGEN'] != \"\"):\n",
    "            paises1 = paises1 + row['COUNT_ORIGEN'] \n",
    "    if(isinstance(row['COUNT_CONCERN'], str)):\n",
    "        if(row['COUNT_CONCERN'] != \"\"):\n",
    "            paises1 = paises1 + \",\" + row['COUNT_CONCERN']\n",
    "    if(isinstance(row['COUNT_DESTIN'], str)):\n",
    "        if(row['COUNT_DESTIN'] != \"\"):\n",
    "            paises1 = paises1 + \",\" + row['COUNT_DESTIN']\n",
    "    listaPaises.append(paises1)\n",
    "df_onehot['Country'] = listaPaises"
   ]
  },
  {
   "cell_type": "code",
   "execution_count": 37,
   "metadata": {},
   "outputs": [],
   "source": [
    "df_onehot2 = df_onehot['Country'].str.join(sep='').str.get_dummies(sep=',').reset_index(drop=True)\n",
    "pd.set_option('display.max_columns', None)\n",
    "df_aux = df_aux.drop(df_aux.columns[0], axis=1)\n",
    "df_onehot2 = df_onehot2.join(pd.get_dummies(df_onehot['PROD_CAT']))\n",
    "df_onehot2 = df_onehot2.drop(df_onehot2.columns[0], axis=1)\n",
    "#df_onehot2"
   ]
  },
  {
   "cell_type": "markdown",
   "metadata": {},
   "source": [
    "## Groupby y Mean"
   ]
  },
  {
   "cell_type": "code",
   "execution_count": 38,
   "metadata": {},
   "outputs": [],
   "source": [
    "df_onehot2['HAZARDS_CAT'] = df['HAZARDS_CAT']"
   ]
  },
  {
   "cell_type": "code",
   "execution_count": 39,
   "metadata": {},
   "outputs": [],
   "source": [
    "#Resumen de cada clase (cat_amenaza), qué paises y productos son los más involucrados.\n",
    "mediaClases = df_onehot2.groupby(df['HAZARDS_CAT']).mean()\n",
    "#mediaClases"
   ]
  },
  {
   "cell_type": "markdown",
   "metadata": {},
   "source": [
    "## Clustering"
   ]
  },
  {
   "cell_type": "code",
   "execution_count": 40,
   "metadata": {},
   "outputs": [],
   "source": [
    "df = mediaClases"
   ]
  },
  {
   "cell_type": "code",
   "execution_count": 41,
   "metadata": {},
   "outputs": [
    {
     "data": {
      "text/plain": [
       "'Single: 0.8077418203661494'"
      ]
     },
     "metadata": {},
     "output_type": "display_data"
    },
    {
     "data": {
      "text/plain": [
       "'Ward: 0.759204458621098'"
      ]
     },
     "metadata": {},
     "output_type": "display_data"
    },
    {
     "data": {
      "text/plain": [
       "'Average: 0.8748819218401156'"
      ]
     },
     "metadata": {},
     "output_type": "display_data"
    },
    {
     "data": {
      "text/plain": [
       "'Complete: 0.8124354570062404'"
      ]
     },
     "metadata": {},
     "output_type": "display_data"
    },
    {
     "data": {
      "text/plain": [
       "'Weighted: 0.8534146873639306'"
      ]
     },
     "metadata": {},
     "output_type": "display_data"
    },
    {
     "data": {
      "text/plain": [
       "'Centroid: 0.8927473174826805'"
      ]
     },
     "metadata": {},
     "output_type": "display_data"
    },
    {
     "data": {
      "text/plain": [
       "'Median: 0.834081778135804'"
      ]
     },
     "metadata": {},
     "output_type": "display_data"
    }
   ],
   "source": [
    "#Single\n",
    "Z = linkage(df, 'single')\n",
    "c, coph_dists = cophenet(Z, pdist(df))\n",
    "display(\"Single: \" + str(c))\n",
    "\n",
    "#Ward\n",
    "Z = linkage(df, 'ward')\n",
    "c, coph_dists = cophenet(Z, pdist(df))\n",
    "display(\"Ward: \" + str(c))\n",
    "\n",
    "#Average\n",
    "Z = linkage(df, 'average')\n",
    "c, coph_dists = cophenet(Z, pdist(df))\n",
    "display(\"Average: \" + str(c))\n",
    "\n",
    "#Complete\n",
    "Z = linkage(df, 'complete')\n",
    "c, coph_dists = cophenet(Z, pdist(df))\n",
    "display(\"Complete: \" + str(c))\n",
    "\n",
    "#Weighted\n",
    "Z = linkage(df, 'weighted')\n",
    "c, coph_dists = cophenet(Z, pdist(df))\n",
    "display(\"Weighted: \" + str(c))\n",
    "\n",
    "#Centroid\n",
    "Z = linkage(df, 'centroid')\n",
    "c, coph_dists = cophenet(Z, pdist(df))\n",
    "display(\"Centroid: \" + str(c))\n",
    "\n",
    "#Median\n",
    "Z = linkage(df, 'median')\n",
    "c, coph_dists = cophenet(Z, pdist(df))\n",
    "display(\"Median: \" + str(c))"
   ]
  },
  {
   "cell_type": "code",
   "execution_count": 42,
   "metadata": {},
   "outputs": [],
   "source": [
    "Z = linkage(df, 'centroid')"
   ]
  },
  {
   "cell_type": "code",
   "execution_count": 43,
   "metadata": {},
   "outputs": [
    {
     "data": {
      "text/plain": [
       "0.8927473174826805"
      ]
     },
     "metadata": {},
     "output_type": "display_data"
    }
   ],
   "source": [
    "c, coph_dists = cophenet(Z, pdist(df))\n",
    "display(c)"
   ]
  },
  {
   "cell_type": "code",
   "execution_count": 44,
   "metadata": {},
   "outputs": [],
   "source": [
    "x = []\n",
    "y = []\n",
    "\n",
    "for i in range(20):\n",
    "    y.append(Z[-(i+1)][2])\n",
    "    x.append(i+1)"
   ]
  },
  {
   "cell_type": "code",
   "execution_count": 45,
   "metadata": {},
   "outputs": [
    {
     "data": {
      "image/png": "[encoded data removed]",
      "text/plain": [
       "<Figure size 720x360 with 1 Axes>"
      ]
     },
     "metadata": {
      "needs_background": "light"
     },
     "output_type": "display_data"
    }
   ],
   "source": [
    "plt.subplots(figsize=(10, 5))\n",
    "plt.plot(x, y, '-o')\n",
    "plt.xticks(np.arange(0, 21, step=1))\n",
    "plt.show()"
   ]
  },
  {
   "cell_type": "code",
   "execution_count": 46,
   "metadata": {},
   "outputs": [],
   "source": [
    "#Labels para el dendograma\n",
    "labels1 = df.index.values\n",
    "labels2 = []\n",
    "for i in labels1:\n",
    "    labels2.append(str((df_cat_amenazas.loc[df_cat_amenazas['Cat_Amenaza'] == i])['Repeticiones'].values[0]) + \" - \" + i)"
   ]
  },
  {
   "cell_type": "code",
   "execution_count": 58,
   "metadata": {},
   "outputs": [
    {
     "data": {
      "image/png": "[encoded data removed]",
      "text/plain": [
       "<Figure size 1080x720 with 1 Axes>"
      ]
     },
     "metadata": {
      "needs_background": "light"
     },
     "output_type": "display_data"
    }
   ],
   "source": [
    "#Dibujo del dendograma de los 178 vinos.\n",
    "import scipy.cluster.hierarchy as shc\n",
    "\n",
    "plt.figure(figsize=(15, 10))\n",
    "plt.title(\"Country Dendogram\")\n",
    "\n",
    "#Dendograma\n",
    "dend = shc.dendrogram(shc.linkage(df, method='average'), labels = labels2, leaf_rotation = 90)\n",
    "\n",
    "#####horizontal line\n",
    "xs = np.linspace(1,2100,20)\n",
    "horiz_line_data = np.array([0.31 for i in range(len(xs))])\n",
    "plt.plot(xs, horiz_line_data, 'c--') \n",
    "\n",
    "#plt.savefig('plt.png', format='png', bbox_inches='tight')\n",
    "plt.savefig('dendogram.jpg', format='jpg', bbox_inches='tight', dpi = 150)"
   ]
  },
  {
   "cell_type": "markdown",
   "metadata": {},
   "source": [
    "Opciones:\n",
    "\n",
    "- Equilibrar entre 3500 y 4500 todas las clases. -> Eliminar bastantes clases\n",
    "- Reducir y agrupar para tener 1500 casos entre todas las clases\n",
    "- Creo que no se deberían ampliar las clases minoritarias.\n",
    "- Deberíamos reducir las clases mayoritarias a un número aproximado y cercano al de la última clase minoritaria que escojamos.\n",
    "----------------------------------------------\n",
    "- Hay 7 clases que tienen +- 4000 casos o más ----> 28.000/60.000 (Total) \n",
    "- Hay 13-15 clases que tienen +- 1500 casos o más -----> 22.500/60.000 (Total)\n",
    "- Hay 22 clases que tienen +- 1000 casos o más y además se pueden juntar clases minoritarias. ----> 22.000/60.000 (Total)\n",
    "\n",
    "----------------------------------------------\n",
    "\n",
    "Mejores uniones para 1000 o 1500 casos:\n",
    "- labelling absent/incomplete/incorrect \t545 y packaging defective / incorrect \t485\n",
    "- biological contaminants (other) \t798 y parasitic infestation \t769\n",
    "\n",
    "Para 1000 o 1500 eliminar:\n",
    "- natural toxins (other) \t748 \n",
    "- genetically modified food or feed \t719 \n",
    "- radiation \t548 \n",
    "- industrial contaminants \t333 \n",
    "- process contaminants  \t246 "
   ]
  },
  {
   "cell_type": "markdown",
   "metadata": {},
   "source": [
    "## Visualización de df_cat_amenazas"
   ]
  },
  {
   "cell_type": "code",
   "execution_count": 48,
   "metadata": {},
   "outputs": [
    {
     "data": {
      "text/html": [
       "<div>\n",
       "<style scoped>\n",
       "    .dataframe tbody tr th:only-of-type {\n",
       "        vertical-align: middle;\n",
       "    }\n",
       "\n",
       "    .dataframe tbody tr th {\n",
       "        vertical-align: top;\n",
       "    }\n",
       "\n",
       "    .dataframe thead th {\n",
       "        text-align: right;\n",
       "    }\n",
       "</style>\n",
       "<table border=\"1\" class=\"dataframe\">\n",
       "  <thead>\n",
       "    <tr style=\"text-align: right;\">\n",
       "      <th></th>\n",
       "      <th>Cat_Amenaza</th>\n",
       "      <th>Repeticiones</th>\n",
       "      <th>%_Aparicion_dataset</th>\n",
       "    </tr>\n",
       "  </thead>\n",
       "  <tbody>\n",
       "    <tr>\n",
       "      <th>10</th>\n",
       "      <td>mycotoxins</td>\n",
       "      <td>12563</td>\n",
       "      <td>0.204223</td>\n",
       "    </tr>\n",
       "    <tr>\n",
       "      <th>2</th>\n",
       "      <td>pathogenic micro-organisms</td>\n",
       "      <td>9927</td>\n",
       "      <td>0.161373</td>\n",
       "    </tr>\n",
       "    <tr>\n",
       "      <th>1</th>\n",
       "      <td>pesticide residues</td>\n",
       "      <td>5489</td>\n",
       "      <td>0.089229</td>\n",
       "    </tr>\n",
       "    <tr>\n",
       "      <th>3</th>\n",
       "      <td>microbial contaminants (other)</td>\n",
       "      <td>4263</td>\n",
       "      <td>0.069299</td>\n",
       "    </tr>\n",
       "    <tr>\n",
       "      <th>16</th>\n",
       "      <td>metals</td>\n",
       "      <td>4189</td>\n",
       "      <td>0.068096</td>\n",
       "    </tr>\n",
       "    <tr>\n",
       "      <th>8</th>\n",
       "      <td>composition</td>\n",
       "      <td>3173</td>\n",
       "      <td>0.051580</td>\n",
       "    </tr>\n",
       "    <tr>\n",
       "      <th>9</th>\n",
       "      <td>food additives and flavourings</td>\n",
       "      <td>3091</td>\n",
       "      <td>0.050247</td>\n",
       "    </tr>\n",
       "    <tr>\n",
       "      <th>19</th>\n",
       "      <td>residues of veterinary medicinal products</td>\n",
       "      <td>2261</td>\n",
       "      <td>0.036755</td>\n",
       "    </tr>\n",
       "    <tr>\n",
       "      <th>0</th>\n",
       "      <td>foreign bodies</td>\n",
       "      <td>2240</td>\n",
       "      <td>0.036413</td>\n",
       "    </tr>\n",
       "    <tr>\n",
       "      <th>17</th>\n",
       "      <td>migration</td>\n",
       "      <td>1635</td>\n",
       "      <td>0.026578</td>\n",
       "    </tr>\n",
       "    <tr>\n",
       "      <th>5</th>\n",
       "      <td>adulteration / fraud</td>\n",
       "      <td>1618</td>\n",
       "      <td>0.026302</td>\n",
       "    </tr>\n",
       "    <tr>\n",
       "      <th>15</th>\n",
       "      <td>allergens</td>\n",
       "      <td>1583</td>\n",
       "      <td>0.025733</td>\n",
       "    </tr>\n",
       "    <tr>\n",
       "      <th>22</th>\n",
       "      <td>poor or insufficient controls</td>\n",
       "      <td>1530</td>\n",
       "      <td>0.024872</td>\n",
       "    </tr>\n",
       "    <tr>\n",
       "      <th>11</th>\n",
       "      <td>environmental pollutants</td>\n",
       "      <td>1018</td>\n",
       "      <td>0.016549</td>\n",
       "    </tr>\n",
       "    <tr>\n",
       "      <th>18</th>\n",
       "      <td>organoleptic aspects</td>\n",
       "      <td>853</td>\n",
       "      <td>0.013866</td>\n",
       "    </tr>\n",
       "    <tr>\n",
       "      <th>20</th>\n",
       "      <td>biological contaminants (other)</td>\n",
       "      <td>762</td>\n",
       "      <td>0.012387</td>\n",
       "    </tr>\n",
       "    <tr>\n",
       "      <th>25</th>\n",
       "      <td>parasitic infestation</td>\n",
       "      <td>753</td>\n",
       "      <td>0.012241</td>\n",
       "    </tr>\n",
       "    <tr>\n",
       "      <th>7</th>\n",
       "      <td>novel food</td>\n",
       "      <td>744</td>\n",
       "      <td>0.012094</td>\n",
       "    </tr>\n",
       "    <tr>\n",
       "      <th>23</th>\n",
       "      <td>genetically modified food or feed</td>\n",
       "      <td>713</td>\n",
       "      <td>0.011590</td>\n",
       "    </tr>\n",
       "    <tr>\n",
       "      <th>14</th>\n",
       "      <td>natural toxins (other)</td>\n",
       "      <td>697</td>\n",
       "      <td>0.011330</td>\n",
       "    </tr>\n",
       "    <tr>\n",
       "      <th>12</th>\n",
       "      <td>radiation</td>\n",
       "      <td>470</td>\n",
       "      <td>0.007640</td>\n",
       "    </tr>\n",
       "    <tr>\n",
       "      <th>21</th>\n",
       "      <td>labelling absent/incomplete/incorrect</td>\n",
       "      <td>467</td>\n",
       "      <td>0.007592</td>\n",
       "    </tr>\n",
       "    <tr>\n",
       "      <th>6</th>\n",
       "      <td>packaging defective / incorrect</td>\n",
       "      <td>439</td>\n",
       "      <td>0.007136</td>\n",
       "    </tr>\n",
       "  </tbody>\n",
       "</table>\n",
       "</div>"
      ],
      "text/plain": [
       "                                  Cat_Amenaza  Repeticiones  \\\n",
       "10                                 mycotoxins         12563   \n",
       "2                  pathogenic micro-organisms          9927   \n",
       "1                          pesticide residues          5489   \n",
       "3              microbial contaminants (other)          4263   \n",
       "16                                     metals          4189   \n",
       "8                                 composition          3173   \n",
       "9              food additives and flavourings          3091   \n",
       "19  residues of veterinary medicinal products          2261   \n",
       "0                              foreign bodies          2240   \n",
       "17                                  migration          1635   \n",
       "5                        adulteration / fraud          1618   \n",
       "15                                  allergens          1583   \n",
       "22              poor or insufficient controls          1530   \n",
       "11                   environmental pollutants          1018   \n",
       "18                       organoleptic aspects           853   \n",
       "20            biological contaminants (other)           762   \n",
       "25                      parasitic infestation           753   \n",
       "7                                  novel food           744   \n",
       "23          genetically modified food or feed           713   \n",
       "14                     natural toxins (other)           697   \n",
       "12                                  radiation           470   \n",
       "21      labelling absent/incomplete/incorrect           467   \n",
       "6             packaging defective / incorrect           439   \n",
       "\n",
       "    %_Aparicion_dataset  \n",
       "10             0.204223  \n",
       "2              0.161373  \n",
       "1              0.089229  \n",
       "3              0.069299  \n",
       "16             0.068096  \n",
       "8              0.051580  \n",
       "9              0.050247  \n",
       "19             0.036755  \n",
       "0              0.036413  \n",
       "17             0.026578  \n",
       "5              0.026302  \n",
       "15             0.025733  \n",
       "22             0.024872  \n",
       "11             0.016549  \n",
       "18             0.013866  \n",
       "20             0.012387  \n",
       "25             0.012241  \n",
       "7              0.012094  \n",
       "23             0.011590  \n",
       "14             0.011330  \n",
       "12             0.007640  \n",
       "21             0.007592  \n",
       "6              0.007136  "
      ]
     },
     "metadata": {},
     "output_type": "display_data"
    },
    {
     "data": {
      "text/plain": [
       "23"
      ]
     },
     "metadata": {},
     "output_type": "display_data"
    }
   ],
   "source": [
    "display(df_cat_amenazas[:-10])\n",
    "display(len(df_cat_amenazas[:-10]))"
   ]
  },
  {
   "cell_type": "code",
   "execution_count": null,
   "metadata": {},
   "outputs": [],
   "source": []
  },
  {
   "cell_type": "code",
   "execution_count": null,
   "metadata": {},
   "outputs": [],
   "source": []
  }
 ],
 "metadata": {
  "kernelspec": {
   "display_name": "Python 3",
   "language": "python",
   "name": "python3"
  },
  "language_info": {
   "codemirror_mode": {
    "name": "ipython",
    "version": 3
   },
   "file_extension": ".py",
   "mimetype": "text/x-python",
   "name": "python",
   "nbconvert_exporter": "python",
   "pygments_lexer": "ipython3",
   "version": "3.7.6"
  }
 },
 "nbformat": 4,
 "nbformat_minor": 4
}
